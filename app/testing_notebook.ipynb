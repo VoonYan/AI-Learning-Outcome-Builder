{
 "cells": [
  {
   "cell_type": "code",
   "execution_count": 21,
   "id": "b2b7a08a",
   "metadata": {},
   "outputs": [
    {
     "name": "stdout",
     "output_type": "stream",
     "text": [
      "/Users/akshaysundru2004/Desktop/Year 4/AI-Learning-Outcome-Builder/app\n"
     ]
    }
   ],
   "source": [
    "import os\n",
    "print(os.getcwd())"
   ]
  },
  {
   "cell_type": "markdown",
   "id": "b1e11a68",
   "metadata": {},
   "source": [
    "# Bulk Testing AI Evaluation of Learning Outcomes\n",
    "\n",
    "This notebook serves as interactive way to view the teams procedure in conducting the efficacy of the AI tool developed for the purposes of this project. The main purpose of these tests are to evaluate the AI's ability to accurately classify unit learning outcomes according to Bloom's taxonomy and in line with expert review as well as grading the quality of the AI's rewrite ability.\n",
    "\n",
    "This notebook will go step by step in demonstrating each test conducted by the team, the tests can be executed individually with notation explaining the purpose and methodology for each test.\n",
    "\n",
    "The first step was to gather the data sources used to perform the test. As agreed upon and recorded in meetings between the team and the client, it was agreed that the client would consult experts and provide a set of flagged learning outcomes to serve as the test set for our AI in addition to a larger set of data for unit learning outcomes. Using this dataset, we can perform tests like F1 score, confusion matrix and ROUGE score to evaluate the AI's capabilities."
   ]
  },
  {
   "cell_type": "markdown",
   "id": "0e1aac31",
   "metadata": {},
   "source": [
    "### Pre-Cleaning\n",
    "\n",
    "Before we can construct the AI tests, we must first clean the data provided to us. For the test csv data used, we constructed a SQL query to create a table with unit information and corresponding learning outcomes, copying that joined table to a CSV. This CSV contained the following columns:\n",
    "\n",
    "- Unit-id: The unique id attributed to each id in the Unit table.\n",
    "- Unit code: A unique 8 digit code attributed to units by UWA for each conducted hosted by UWA.\n",
    "- Level: The course \"level\" of each unit, indicating the complexity of each unit.\n",
    "- Description: Each unit has a set of learning outcomes associated with it, in our website these outcomes are stored in their own separate table. In our case, we've joined basic unit info with each learning outcome. Each learning outcome is a description of a goal that the unit should provide student or a skill that will be assessed.\n",
    "- Position: This parameter is mainly used for front end rendering on the learning outcome editor page, indicating the position of a learning outcome in the table.\n",
    "- Credit Points: The completion of each unit corresponds to a certain number of credit points added towards a student, the completion of a degree typically involves the completion of certain units as well as a requisite number of credit points.\n",
    "\n",
    "After extracting this data into a CSV, a manual review was performed for each learning outcome, and an addition column was added.\n",
    "\n",
    "- Flag: This parameter indicates human analysis of learning outcomes, and categorises learning outcomes into three levels, 'Good', 'Needs Revision' and 'Could Improve'.\n",
    "\n",
    "The first step of cleaning is to load this CSV into Python using a pandas dataframe."
   ]
  },
  {
   "cell_type": "code",
   "execution_count": 49,
   "id": "b9b96524",
   "metadata": {},
   "outputs": [],
   "source": [
    "import pandas as pd\n",
    "import os\n",
    "\n",
    "\n",
    "testing_set = pd.read_csv(\"de.csv\")"
   ]
  },
  {
   "cell_type": "code",
   "execution_count": 50,
   "id": "42fb601a",
   "metadata": {},
   "outputs": [
    {
     "data": {
      "text/html": [
       "<div>\n",
       "<style scoped>\n",
       "    .dataframe tbody tr th:only-of-type {\n",
       "        vertical-align: middle;\n",
       "    }\n",
       "\n",
       "    .dataframe tbody tr th {\n",
       "        vertical-align: top;\n",
       "    }\n",
       "\n",
       "    .dataframe thead th {\n",
       "        text-align: right;\n",
       "    }\n",
       "</style>\n",
       "<table border=\"1\" class=\"dataframe\">\n",
       "  <thead>\n",
       "    <tr style=\"text-align: right;\">\n",
       "      <th></th>\n",
       "      <th>unit id</th>\n",
       "      <th>unitcode</th>\n",
       "      <th>level</th>\n",
       "      <th>description</th>\n",
       "      <th>position</th>\n",
       "      <th>flag</th>\n",
       "    </tr>\n",
       "  </thead>\n",
       "  <tbody>\n",
       "    <tr>\n",
       "      <th>0</th>\n",
       "      <td>4</td>\n",
       "      <td>EMPL3301</td>\n",
       "      <td>3</td>\n",
       "      <td>describe the core debates over the meaning of ...</td>\n",
       "      <td>1</td>\n",
       "      <td>GOOD</td>\n",
       "    </tr>\n",
       "    <tr>\n",
       "      <th>1</th>\n",
       "      <td>4</td>\n",
       "      <td>EMPL3301</td>\n",
       "      <td>3</td>\n",
       "      <td>explain the relationship between globalisation...</td>\n",
       "      <td>2</td>\n",
       "      <td>GOOD</td>\n",
       "    </tr>\n",
       "    <tr>\n",
       "      <th>2</th>\n",
       "      <td>4</td>\n",
       "      <td>EMPL3301</td>\n",
       "      <td>3</td>\n",
       "      <td>identify organisations and institutions centra...</td>\n",
       "      <td>3</td>\n",
       "      <td>NEEDS_REVISION</td>\n",
       "    </tr>\n",
       "    <tr>\n",
       "      <th>3</th>\n",
       "      <td>4</td>\n",
       "      <td>EMPL3301</td>\n",
       "      <td>3</td>\n",
       "      <td>gain a critical appreciation of how globalisat...</td>\n",
       "      <td>4</td>\n",
       "      <td>NEEDS_REVISION</td>\n",
       "    </tr>\n",
       "    <tr>\n",
       "      <th>4</th>\n",
       "      <td>4</td>\n",
       "      <td>EMPL3301</td>\n",
       "      <td>3</td>\n",
       "      <td>develop a critical understanding of individual...</td>\n",
       "      <td>5</td>\n",
       "      <td>GOOD</td>\n",
       "    </tr>\n",
       "  </tbody>\n",
       "</table>\n",
       "</div>"
      ],
      "text/plain": [
       "   unit id  unitcode  level  \\\n",
       "0        4  EMPL3301      3   \n",
       "1        4  EMPL3301      3   \n",
       "2        4  EMPL3301      3   \n",
       "3        4  EMPL3301      3   \n",
       "4        4  EMPL3301      3   \n",
       "\n",
       "                                         description  position            flag  \n",
       "0  describe the core debates over the meaning of ...         1            GOOD  \n",
       "1  explain the relationship between globalisation...         2            GOOD  \n",
       "2  identify organisations and institutions centra...         3  NEEDS_REVISION  \n",
       "3  gain a critical appreciation of how globalisat...         4  NEEDS_REVISION  \n",
       "4  develop a critical understanding of individual...         5            GOOD  "
      ]
     },
     "execution_count": 50,
     "metadata": {},
     "output_type": "execute_result"
    }
   ],
   "source": [
    "testing_set.head()"
   ]
  },
  {
   "cell_type": "markdown",
   "id": "75ee15e9",
   "metadata": {},
   "source": [
    "Upon running the above commands, we can see the first 5 rows of the test dataset. Using the pandas library allows us to perform some elementary analysis of these outcomes, first of which is counting the number of outcomes classified into the three flag categories."
   ]
  },
  {
   "cell_type": "code",
   "execution_count": 54,
   "id": "4f4d7c12",
   "metadata": {},
   "outputs": [
    {
     "name": "stdout",
     "output_type": "stream",
     "text": [
      "The number of good learning outcomes is 42.\n",
      "The number of good learning outcomes is 19.\n",
      "The number of good learning outcomes is 4.\n"
     ]
    }
   ],
   "source": [
    "good_rows = testing_set[testing_set.flag == \"GOOD\"]\n",
    "needs_revision_rows = testing_set[testing_set.flag == \"NEEDS_REVISION\"]\n",
    "could_improve_rows = testing_set[testing_set.flag == \"COULD_IMPROVE\"]\n",
    "\n",
    "count_good = len(good_rows)\n",
    "count_needs_revision = len(needs_revision_rows)\n",
    "count_could_improve = len(could_improve_rows)\n",
    "\n",
    "print(f\"The number of good learning outcomes is {count_good}.\")\n",
    "print(f\"The number of good learning outcomes is {count_needs_revision}.\")\n",
    "print(f\"The number of good learning outcomes is {count_could_improve}.\")"
   ]
  },
  {
   "cell_type": "markdown",
   "id": "420b822b",
   "metadata": {},
   "source": [
    "This metric allows us to construct the first set of tests, the F1 score and confusion matrix. These tests are used to determine the classification accuracy of our model by calculating the number of tests that are matched in evaluation as well as counting the number of false positives and false negatives."
   ]
  },
  {
   "cell_type": "code",
   "execution_count": 55,
   "id": "371206fe",
   "metadata": {},
   "outputs": [],
   "source": [
    "descriptions = testing_set[\"description\"]"
   ]
  },
  {
   "cell_type": "code",
   "execution_count": 56,
   "id": "2cc668d5",
   "metadata": {},
   "outputs": [
    {
     "name": "stdout",
     "output_type": "stream",
     "text": [
      "[\"describe the core debates over the meaning of the term 'globalisation'\", 'explain the relationship between globalisation and labour market and workplace restructuring', 'identify organisations and institutions central to globalisation and their impact on work', 'gain a critical appreciation of how globalisation reshapes the experience of work and worker identity', 'develop a critical understanding of individual and collective responses to the impact of globalisation on work']\n"
     ]
    }
   ],
   "source": [
    "text = []\n",
    "for i in range(5):\n",
    "    text.append(f\"{descriptions[i]}\")\n",
    "\n",
    "#outcomes_text = \"\\n\".join(text)\n",
    "print(text)\n",
    "\n",
    "outcomes_text = \"\\n\".join(text)"
   ]
  },
  {
   "cell_type": "code",
   "execution_count": 57,
   "id": "e155dcaa",
   "metadata": {},
   "outputs": [
    {
     "data": {
      "text/plain": [
       "\"describe the core debates over the meaning of the term 'globalisation'\\nexplain the relationship between globalisation and labour market and workplace restructuring\\nidentify organisations and institutions central to globalisation and their impact on work\\ngain a critical appreciation of how globalisation reshapes the experience of work and worker identity\\ndevelop a critical understanding of individual and collective responses to the impact of globalisation on work\""
      ]
     },
     "execution_count": 57,
     "metadata": {},
     "output_type": "execute_result"
    }
   ],
   "source": [
    "outcomes_text"
   ]
  },
  {
   "cell_type": "code",
   "execution_count": 28,
   "id": "ec2d12ed",
   "metadata": {},
   "outputs": [
    {
     "name": "stdout",
     "output_type": "stream",
     "text": [
      "describe the core debates over the meaning of the term 'globalisation'\n",
      "explain the relationship between globalisation and labour market and workplace restructuring\n",
      "identify organisations and institutions central to globalisation and their impact on work\n",
      "gain a critical appreciation of how globalisation reshapes the experience of work and worker identity\n",
      "develop a critical understanding of individual and collective responses to the impact of globalisation on work\n"
     ]
    }
   ],
   "source": [
    "unitcode = \"EMPL3301\"\n",
    "level = \"3\"\n",
    "creditpoints = \"6\"\n",
    "print(outcomes_text)"
   ]
  },
  {
   "cell_type": "code",
   "execution_count": null,
   "id": "78c15618",
   "metadata": {},
   "outputs": [
    {
     "name": "stdout",
     "output_type": "stream",
     "text": [
      "**LO Analysis**\n",
      "\n",
      "'describe the core debates over the meaning of the term 'globalisation'' - STATUS:NEEDS_REVISION - This outcome is at the Comprehension level (Bloom's Taxonomy) rather than Application. SUGGESTION: 'Apply knowledge of core debates surrounding globalisation to analyse contemporary case studies.'\n",
      "\n",
      "'explain the relationship between globalisation and labour market and workplace restructuring' - STATUS:NEEDS_REVISION - This outcome is at the Comprehension level (Bloom's Taxonomy) rather than Application. SUGGESTION: 'Demonstrate how globalisation impacts labour market and workplace restructuring through the analysis of specific industry examples.'\n",
      "\n",
      "'identify organisations and institutions central to globalisation and their impact on work' - STATUS:NEEDS_REVISION - This outcome is at the Knowledge level (Bloom's Taxonomy) rather than Application. SUGGESTION: 'Utilise knowledge of key organisations and institutions involved in globalisation to assess their impact on a chosen workplace.'\n",
      "\n",
      "'gain a critical appreciation of how globalisation reshapes the experience of work and worker identity' - STATUS:COULD_IMPROVE - While aiming for criticality, the verb 'gain' is weak and doesn't clearly indicate an application-level skill. SUGGESTION: 'Demonstrate an understanding of how globalisation reshapes the experience of work and worker identity by applying theoretical frameworks to real-world scenarios.'\n",
      "\n",
      "'develop a critical understanding of individual and collective responses to the impact of globalisation on work' - STATUS:NEEDS_REVISION - This outcome uses the problematic phrase 'critical understanding' and is at the Comprehension level. SUGGESTION: 'Construct a plan to address the impact of globalisation on work, considering both individual and collective responses.'\n",
      "\n",
      "**SUMMARY**\n",
      "\n",
      "The unit has 5 Learning Outcomes, which is within the appropriate range for a 6-point unit. However, the majority of the outcomes are not aligned with the expected Application level (Level 3) of Bloom's Taxonomy and require revision to incorporate more active verbs demonstrating practical application of knowledge.\n",
      "\n",
      "\n",
      "\n",
      "\n"
     ]
    }
   ],
   "source": [
    "from ai_evaluate import run_eval\n",
    "os.environ[\"GOOGLE_API_KEY\"] = 'your-api-key'\n",
    "\n",
    "response = run_eval(level=level, unit_name=unitcode, credit_points=creditpoints, outcomes_text=outcomes_text)\n",
    "\n",
    "print(response)"
   ]
  },
  {
   "cell_type": "markdown",
   "id": "d62f2f76",
   "metadata": {},
   "source": [
    "Here we've taken the first unit's set of learning outcomes and general information and fed it through our AI evaluation tool. Looking at the output, we can see that it is constrcuted to provide a STATUS flag, general feedback and a suggested rewrite to align more with Bloom's taxonomy. For classification testing, we can extract the outputted flag using a regex (regular expression) to isolate the flag and add it to a new column."
   ]
  },
  {
   "cell_type": "code",
   "execution_count": 30,
   "id": "2619c49e",
   "metadata": {},
   "outputs": [
    {
     "data": {
      "text/plain": [
       "['NEEDS_REVISION',\n",
       " 'NEEDS_REVISION',\n",
       " 'NEEDS_REVISION',\n",
       " 'COULD_IMPROVE',\n",
       " 'NEEDS_REVISION']"
      ]
     },
     "execution_count": 30,
     "metadata": {},
     "output_type": "execute_result"
    }
   ],
   "source": [
    "import re\n",
    "\n",
    "matches = re.findall(r\"'(.*?)'\\s*-\\s*STATUS:\\s*(\\w+)\", response, re.IGNORECASE)\n",
    "\n",
    "status_flag = []\n",
    "for outcome, status in matches:\n",
    "    status_flag.append(status)\n",
    "\n",
    "status_flag"
   ]
  },
  {
   "cell_type": "code",
   "execution_count": 61,
   "id": "cf2dd137",
   "metadata": {},
   "outputs": [],
   "source": [
    "grouped_data = testing_set.groupby('unitcode')\n",
    "\n",
    "ai_data = []\n",
    "for unitcode, group in grouped_data:\n",
    "        unit_data = group.iloc[0]  # same metadata for each outcome\n",
    "        outcomes = group['description'].dropna().tolist()\n",
    "\n",
    "        outcomes_text = \"\\n\".join(outcomes)\n",
    "\n",
    "        ai_data.append({\n",
    "            \"unitcode\": unitcode,\n",
    "            \"level\": int(unit_data['level']),\n",
    "            \"credit_points\": 6,\n",
    "            \"outcomes\": outcomes_text\n",
    "        })\n"
   ]
  },
  {
   "cell_type": "code",
   "execution_count": 62,
   "id": "7c84dcfa",
   "metadata": {},
   "outputs": [
    {
     "name": "stdout",
     "output_type": "stream",
     "text": [
      "{'unitcode': 'ACCT2242', 'level': 2, 'credit_points': 6, 'outcomes': 'identify and explain the roles and components of AIS\\ndescribe the role of an internal control system in maintaining data integrity and recommend internal control improvements to protect key business processes\\ncritically evaluate business processes and system documentation\\ndemonstrate basic data analytics and visualisation techniques that enhances the efficiency and effectiveness of communication\\nexplain the impact of ICT on current and emerging accounting practices\\ndevelop competencies to work effectively in teams to resolve ICT issues.'}\n"
     ]
    }
   ],
   "source": [
    "print(ai_data[0])"
   ]
  },
  {
   "cell_type": "code",
   "execution_count": 63,
   "id": "f3dacab9",
   "metadata": {},
   "outputs": [
    {
     "name": "stdout",
     "output_type": "stream",
     "text": [
      "\n",
      "🔹 Processing 1/10: ACCT2242\n",
      "✅ Completed ACCT2242 — 6 outcomes parsed.\n",
      "\n",
      "🔹 Processing 2/10: CITS2211\n",
      "✅ Completed CITS2211 — 4 outcomes parsed.\n",
      "\n",
      "🔹 Processing 3/10: DENT3005\n",
      "✅ Completed DENT3005 — 10 outcomes parsed.\n",
      "\n",
      "🔹 Processing 4/10: ELEC3016\n",
      "✅ Completed ELEC3016 — 7 outcomes parsed.\n",
      "\n",
      "🔹 Processing 5/10: ELEC5505\n",
      "✅ Completed ELEC5505 — 7 outcomes parsed.\n",
      "\n",
      "🔹 Processing 6/10: EMPL3301\n",
      "✅ Completed EMPL3301 — 6 outcomes parsed.\n",
      "\n",
      "🔹 Processing 7/10: LAWS3214\n",
      "✅ Completed LAWS3214 — 5 outcomes parsed.\n",
      "\n",
      "🔹 Processing 8/10: PHIL1001\n",
      "✅ Completed PHIL1001 — 10 outcomes parsed.\n",
      "\n",
      "🔹 Processing 9/10: PHYS2003\n",
      "✅ Completed PHYS2003 — 5 outcomes parsed.\n",
      "\n",
      "🔹 Processing 10/10: PSYC1101\n",
      "⚠️ Server disconnected. Retrying in 4.1s (attempt 1/3)...\n",
      "✅ Completed PSYC1101 — 5 outcomes parsed.\n"
     ]
    }
   ],
   "source": [
    "import time\n",
    "import random\n",
    "from httpx import RemoteProtocolError\n",
    "\n",
    "flags = []\n",
    "\n",
    "DELAY_SECONDS = 3\n",
    "MAX_RETRIES = 3\n",
    "\n",
    "for i, entry in enumerate(ai_data, start=1):\n",
    "    print(f\"\\n🔹 Processing {i}/{len(ai_data)}: {entry['unitcode']}\")\n",
    "\n",
    "    retries = 0\n",
    "    success = False\n",
    "\n",
    "    while retries < MAX_RETRIES and not success:\n",
    "        try:\n",
    "            response = run_eval(\n",
    "                level=entry['level'],\n",
    "                unit_name=entry['unitcode'],\n",
    "                credit_points=entry['credit_points'],\n",
    "                outcomes_text=entry['outcomes']\n",
    "            )\n",
    "\n",
    "            matches = re.findall(r\"'(.*?)'\\s*-\\s*STATUS:\\s*(\\w+)\", response, re.IGNORECASE)\n",
    "            for outcome, status in matches:\n",
    "                flags.append({\n",
    "                    \"unitcode\": entry['unitcode'],\n",
    "                    \"outcome\": outcome,\n",
    "                    \"status\": status\n",
    "                })\n",
    "\n",
    "            print(f\"✅ Completed {entry['unitcode']} — {len(matches)} outcomes parsed.\")\n",
    "            success = True\n",
    "\n",
    "        except RemoteProtocolError:\n",
    "            retries += 1\n",
    "            wait_time = DELAY_SECONDS * retries + random.uniform(1, 2)\n",
    "            print(f\"⚠️ Server disconnected. Retrying in {wait_time:.1f}s (attempt {retries}/{MAX_RETRIES})...\")\n",
    "            time.sleep(wait_time)\n",
    "\n",
    "        except Exception as e:\n",
    "            print(f\"❌ Unexpected error for {entry['unitcode']}: {e}\")\n",
    "            flags.append({\n",
    "                \"unitcode\": entry['unitcode'],\n",
    "                \"outcome\": None,\n",
    "                \"status\": \"ERROR\"\n",
    "            })\n",
    "            break\n",
    "\n",
    "    # Delay between units to reduce load\n",
    "    if success:\n",
    "        time.sleep(DELAY_SECONDS + random.uniform(0.5, 1.5))\n"
   ]
  },
  {
   "cell_type": "code",
   "execution_count": 65,
   "id": "23016e25",
   "metadata": {},
   "outputs": [
    {
     "data": {
      "text/html": [
       "<div>\n",
       "<style scoped>\n",
       "    .dataframe tbody tr th:only-of-type {\n",
       "        vertical-align: middle;\n",
       "    }\n",
       "\n",
       "    .dataframe tbody tr th {\n",
       "        vertical-align: top;\n",
       "    }\n",
       "\n",
       "    .dataframe thead th {\n",
       "        text-align: right;\n",
       "    }\n",
       "</style>\n",
       "<table border=\"1\" class=\"dataframe\">\n",
       "  <thead>\n",
       "    <tr style=\"text-align: right;\">\n",
       "      <th></th>\n",
       "      <th>unit id</th>\n",
       "      <th>unitcode</th>\n",
       "      <th>level</th>\n",
       "      <th>description</th>\n",
       "      <th>position</th>\n",
       "      <th>flag</th>\n",
       "      <th>AI_Flag</th>\n",
       "    </tr>\n",
       "  </thead>\n",
       "  <tbody>\n",
       "    <tr>\n",
       "      <th>0</th>\n",
       "      <td>4</td>\n",
       "      <td>EMPL3301</td>\n",
       "      <td>3</td>\n",
       "      <td>describe the core debates over the meaning of ...</td>\n",
       "      <td>1</td>\n",
       "      <td>GOOD</td>\n",
       "      <td>GOOD</td>\n",
       "    </tr>\n",
       "    <tr>\n",
       "      <th>1</th>\n",
       "      <td>4</td>\n",
       "      <td>EMPL3301</td>\n",
       "      <td>3</td>\n",
       "      <td>explain the relationship between globalisation...</td>\n",
       "      <td>2</td>\n",
       "      <td>GOOD</td>\n",
       "      <td>COULD_IMPROVE</td>\n",
       "    </tr>\n",
       "    <tr>\n",
       "      <th>2</th>\n",
       "      <td>4</td>\n",
       "      <td>EMPL3301</td>\n",
       "      <td>3</td>\n",
       "      <td>identify organisations and institutions centra...</td>\n",
       "      <td>3</td>\n",
       "      <td>NEEDS_REVISION</td>\n",
       "      <td>NEEDS_REVISION</td>\n",
       "    </tr>\n",
       "    <tr>\n",
       "      <th>3</th>\n",
       "      <td>4</td>\n",
       "      <td>EMPL3301</td>\n",
       "      <td>3</td>\n",
       "      <td>gain a critical appreciation of how globalisat...</td>\n",
       "      <td>4</td>\n",
       "      <td>NEEDS_REVISION</td>\n",
       "      <td>NEEDS_REVISION</td>\n",
       "    </tr>\n",
       "    <tr>\n",
       "      <th>4</th>\n",
       "      <td>4</td>\n",
       "      <td>EMPL3301</td>\n",
       "      <td>3</td>\n",
       "      <td>develop a critical understanding of individual...</td>\n",
       "      <td>5</td>\n",
       "      <td>GOOD</td>\n",
       "      <td>GOOD</td>\n",
       "    </tr>\n",
       "  </tbody>\n",
       "</table>\n",
       "</div>"
      ],
      "text/plain": [
       "   unit id  unitcode  level  \\\n",
       "0        4  EMPL3301      3   \n",
       "1        4  EMPL3301      3   \n",
       "2        4  EMPL3301      3   \n",
       "3        4  EMPL3301      3   \n",
       "4        4  EMPL3301      3   \n",
       "\n",
       "                                         description  position  \\\n",
       "0  describe the core debates over the meaning of ...         1   \n",
       "1  explain the relationship between globalisation...         2   \n",
       "2  identify organisations and institutions centra...         3   \n",
       "3  gain a critical appreciation of how globalisat...         4   \n",
       "4  develop a critical understanding of individual...         5   \n",
       "\n",
       "             flag         AI_Flag  \n",
       "0            GOOD            GOOD  \n",
       "1            GOOD   COULD_IMPROVE  \n",
       "2  NEEDS_REVISION  NEEDS_REVISION  \n",
       "3  NEEDS_REVISION  NEEDS_REVISION  \n",
       "4            GOOD            GOOD  "
      ]
     },
     "execution_count": 65,
     "metadata": {},
     "output_type": "execute_result"
    }
   ],
   "source": [
    "flags_list =[ entry['status'] for entry in flags]\n",
    "flags_list\n",
    "\n",
    "testing_set['AI_Flag'] = flags_list\n",
    "\n",
    "testing_set.head(5)"
   ]
  },
  {
   "cell_type": "code",
   "execution_count": 66,
   "id": "b55c05c4",
   "metadata": {},
   "outputs": [
    {
     "data": {
      "text/html": [
       "<div>\n",
       "<style scoped>\n",
       "    .dataframe tbody tr th:only-of-type {\n",
       "        vertical-align: middle;\n",
       "    }\n",
       "\n",
       "    .dataframe tbody tr th {\n",
       "        vertical-align: top;\n",
       "    }\n",
       "\n",
       "    .dataframe thead th {\n",
       "        text-align: right;\n",
       "    }\n",
       "</style>\n",
       "<table border=\"1\" class=\"dataframe\">\n",
       "  <thead>\n",
       "    <tr style=\"text-align: right;\">\n",
       "      <th></th>\n",
       "      <th>unit id</th>\n",
       "      <th>unitcode</th>\n",
       "      <th>level</th>\n",
       "      <th>description</th>\n",
       "      <th>position</th>\n",
       "      <th>flag</th>\n",
       "      <th>AI_Flag</th>\n",
       "    </tr>\n",
       "  </thead>\n",
       "  <tbody>\n",
       "    <tr>\n",
       "      <th>0</th>\n",
       "      <td>4</td>\n",
       "      <td>EMPL3301</td>\n",
       "      <td>3</td>\n",
       "      <td>describe the core debates over the meaning of ...</td>\n",
       "      <td>1</td>\n",
       "      <td>GOOD</td>\n",
       "      <td>GOOD</td>\n",
       "    </tr>\n",
       "    <tr>\n",
       "      <th>1</th>\n",
       "      <td>4</td>\n",
       "      <td>EMPL3301</td>\n",
       "      <td>3</td>\n",
       "      <td>explain the relationship between globalisation...</td>\n",
       "      <td>2</td>\n",
       "      <td>GOOD</td>\n",
       "      <td>COULD_IMPROVE</td>\n",
       "    </tr>\n",
       "    <tr>\n",
       "      <th>2</th>\n",
       "      <td>4</td>\n",
       "      <td>EMPL3301</td>\n",
       "      <td>3</td>\n",
       "      <td>identify organisations and institutions centra...</td>\n",
       "      <td>3</td>\n",
       "      <td>NEEDS_REVISION</td>\n",
       "      <td>NEEDS_REVISION</td>\n",
       "    </tr>\n",
       "    <tr>\n",
       "      <th>3</th>\n",
       "      <td>4</td>\n",
       "      <td>EMPL3301</td>\n",
       "      <td>3</td>\n",
       "      <td>gain a critical appreciation of how globalisat...</td>\n",
       "      <td>4</td>\n",
       "      <td>NEEDS_REVISION</td>\n",
       "      <td>NEEDS_REVISION</td>\n",
       "    </tr>\n",
       "    <tr>\n",
       "      <th>4</th>\n",
       "      <td>4</td>\n",
       "      <td>EMPL3301</td>\n",
       "      <td>3</td>\n",
       "      <td>develop a critical understanding of individual...</td>\n",
       "      <td>5</td>\n",
       "      <td>GOOD</td>\n",
       "      <td>GOOD</td>\n",
       "    </tr>\n",
       "    <tr>\n",
       "      <th>...</th>\n",
       "      <td>...</td>\n",
       "      <td>...</td>\n",
       "      <td>...</td>\n",
       "      <td>...</td>\n",
       "      <td>...</td>\n",
       "      <td>...</td>\n",
       "      <td>...</td>\n",
       "    </tr>\n",
       "    <tr>\n",
       "      <th>60</th>\n",
       "      <td>5815</td>\n",
       "      <td>ELEC3016</td>\n",
       "      <td>3</td>\n",
       "      <td>analyse the performance (regulation, losses an...</td>\n",
       "      <td>3</td>\n",
       "      <td>GOOD</td>\n",
       "      <td>NEEDS_REVISION</td>\n",
       "    </tr>\n",
       "    <tr>\n",
       "      <th>61</th>\n",
       "      <td>5815</td>\n",
       "      <td>ELEC3016</td>\n",
       "      <td>3</td>\n",
       "      <td>explain the working principle of transformers ...</td>\n",
       "      <td>4</td>\n",
       "      <td>NEEDS_REVISION</td>\n",
       "      <td>GOOD</td>\n",
       "    </tr>\n",
       "    <tr>\n",
       "      <th>62</th>\n",
       "      <td>5815</td>\n",
       "      <td>ELEC3016</td>\n",
       "      <td>3</td>\n",
       "      <td>analyse torque-speed characteristics to develo...</td>\n",
       "      <td>5</td>\n",
       "      <td>GOOD</td>\n",
       "      <td>NEEDS_REVISION</td>\n",
       "    </tr>\n",
       "    <tr>\n",
       "      <th>63</th>\n",
       "      <td>5815</td>\n",
       "      <td>ELEC3016</td>\n",
       "      <td>3</td>\n",
       "      <td>develop transmission line parameters and power...</td>\n",
       "      <td>6</td>\n",
       "      <td>GOOD</td>\n",
       "      <td>NEEDS_REVISION</td>\n",
       "    </tr>\n",
       "    <tr>\n",
       "      <th>64</th>\n",
       "      <td>5815</td>\n",
       "      <td>ELEC3016</td>\n",
       "      <td>3</td>\n",
       "      <td>demonstrate compliance with work, health and s...</td>\n",
       "      <td>7</td>\n",
       "      <td>GOOD</td>\n",
       "      <td>COULD_IMPROVE</td>\n",
       "    </tr>\n",
       "  </tbody>\n",
       "</table>\n",
       "<p>65 rows × 7 columns</p>\n",
       "</div>"
      ],
      "text/plain": [
       "    unit id  unitcode  level  \\\n",
       "0         4  EMPL3301      3   \n",
       "1         4  EMPL3301      3   \n",
       "2         4  EMPL3301      3   \n",
       "3         4  EMPL3301      3   \n",
       "4         4  EMPL3301      3   \n",
       "..      ...       ...    ...   \n",
       "60     5815  ELEC3016      3   \n",
       "61     5815  ELEC3016      3   \n",
       "62     5815  ELEC3016      3   \n",
       "63     5815  ELEC3016      3   \n",
       "64     5815  ELEC3016      3   \n",
       "\n",
       "                                          description  position  \\\n",
       "0   describe the core debates over the meaning of ...         1   \n",
       "1   explain the relationship between globalisation...         2   \n",
       "2   identify organisations and institutions centra...         3   \n",
       "3   gain a critical appreciation of how globalisat...         4   \n",
       "4   develop a critical understanding of individual...         5   \n",
       "..                                                ...       ...   \n",
       "60  analyse the performance (regulation, losses an...         3   \n",
       "61  explain the working principle of transformers ...         4   \n",
       "62  analyse torque-speed characteristics to develo...         5   \n",
       "63  develop transmission line parameters and power...         6   \n",
       "64  demonstrate compliance with work, health and s...         7   \n",
       "\n",
       "              flag         AI_Flag  \n",
       "0             GOOD            GOOD  \n",
       "1             GOOD   COULD_IMPROVE  \n",
       "2   NEEDS_REVISION  NEEDS_REVISION  \n",
       "3   NEEDS_REVISION  NEEDS_REVISION  \n",
       "4             GOOD            GOOD  \n",
       "..             ...             ...  \n",
       "60            GOOD  NEEDS_REVISION  \n",
       "61  NEEDS_REVISION            GOOD  \n",
       "62            GOOD  NEEDS_REVISION  \n",
       "63            GOOD  NEEDS_REVISION  \n",
       "64            GOOD   COULD_IMPROVE  \n",
       "\n",
       "[65 rows x 7 columns]"
      ]
     },
     "execution_count": 66,
     "metadata": {},
     "output_type": "execute_result"
    }
   ],
   "source": [
    "testing_set[\"flag\"] = testing_set[\"flag\"].str.upper()\n",
    "\n",
    "testing_set"
   ]
  },
  {
   "cell_type": "code",
   "execution_count": 68,
   "id": "b010f9af",
   "metadata": {},
   "outputs": [],
   "source": [
    "testing_set.to_excel('Testing Set.xlsx', index=False)"
   ]
  },
  {
   "cell_type": "code",
   "execution_count": 70,
   "id": "2a6462f6",
   "metadata": {},
   "outputs": [
    {
     "name": "stdout",
     "output_type": "stream",
     "text": [
      "0.236\n",
      "0.314\n"
     ]
    }
   ],
   "source": [
    "from sklearn.metrics import f1_score\n",
    "\n",
    "manual_flagged = testing_set.flag\n",
    "ai_flagged = testing_set.AI_Flag\n",
    "\n",
    "f1_macro = f1_score(manual_flagged, ai_flagged, average='macro')\n",
    "print(round(f1_macro, 3))\n",
    "\n",
    "f1_weighted = f1_score(manual_flagged, ai_flagged, average='weighted')\n",
    "print(round(f1_weighted, 3))\n"
   ]
  },
  {
   "cell_type": "code",
   "execution_count": null,
   "id": "31073c2b",
   "metadata": {},
   "outputs": [],
   "source": []
  }
 ],
 "metadata": {
  "kernelspec": {
   "display_name": "AIBuilder (3.13.5)",
   "language": "python",
   "name": "python3"
  },
  "language_info": {
   "codemirror_mode": {
    "name": "ipython",
    "version": 3
   },
   "file_extension": ".py",
   "mimetype": "text/x-python",
   "name": "python",
   "nbconvert_exporter": "python",
   "pygments_lexer": "ipython3",
   "version": "3.13.5"
  }
 },
 "nbformat": 4,
 "nbformat_minor": 5
}
