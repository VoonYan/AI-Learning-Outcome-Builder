{
 "cells": [
  {
   "cell_type": "code",
   "execution_count": 1,
   "id": "b2b7a08a",
   "metadata": {},
   "outputs": [
    {
     "name": "stdout",
     "output_type": "stream",
     "text": [
      "/Users/akshaysundru2004/Desktop/Year 4/AI-Learning-Outcome-Builder/app\n"
     ]
    }
   ],
   "source": [
    "import os\n",
    "print(os.getcwd())"
   ]
  },
  {
   "cell_type": "markdown",
   "id": "b1e11a68",
   "metadata": {},
   "source": [
    "# Bulk Testing AI Evaluation of Learning Outcomes\n",
    "\n",
    "This notebook serves as interactive way to view the teams procedure in conducting the efficacy of the AI tool developed for the purposes of this project. The main purpose of these tests are to evaluate the AI's ability to accurately classify unit learning outcomes according to Bloom's taxonomy and in line with expert review as well as grading the quality of the AI's rewrite ability.\n",
    "\n",
    "This notebook will go step by step in demonstrating each test conducted by the team, the tests can be executed individually with notation explaining the purpose and methodology for each test.\n",
    "\n",
    "The first step was to gather the data sources used to perform the test. As agreed upon and recorded in meetings between the team and the client, it was agreed that the client would consult experts and provide a set of flagged learning outcomes to serve as the test set for our AI in addition to a larger set of data for unit learning outcomes. Using this dataset, we can perform tests like F1 score, confusion matrix and ROUGE score to evaluate the AI's capabilities."
   ]
  },
  {
   "cell_type": "markdown",
   "id": "0e1aac31",
   "metadata": {},
   "source": [
    "### Pre-Cleaning\n",
    "\n",
    "Before we can construct the AI tests, we must first clean the data provided to us. For the test csv data used, we constructed a SQL query to create a table with unit information and corresponding learning outcomes, copying that joined table to a CSV. This CSV contained the following columns:\n",
    "\n",
    "- Unit-id: The unique id attributed to each id in the Unit table.\n",
    "- Unit code: A unique 8 digit code attributed to units by UWA for each conducted hosted by UWA.\n",
    "- Level: The course \"level\" of each unit, indicating the complexity of each unit.\n",
    "- Description: Each unit has a set of learning outcomes associated with it, in our website these outcomes are stored in their own separate table. In our case, we've joined basic unit info with each learning outcome. Each learning outcome is a description of a goal that the unit should provide student or a skill that will be assessed.\n",
    "- Position: This parameter is mainly used for front end rendering on the learning outcome editor page, indicating the position of a learning outcome in the table.\n",
    "- Credit Points: The completion of each unit corresponds to a certain number of credit points added towards a student, the completion of a degree typically involves the completion of certain units as well as a requisite number of credit points.\n",
    "\n",
    "After extracting this data into a CSV, a manual review was performed for each learning outcome, and an addition column was added.\n",
    "\n",
    "- Flag: This parameter indicates human analysis of learning outcomes, and categorises learning outcomes into three levels, 'Good', 'Needs Revision' and 'Could Improve'.\n",
    "\n",
    "The first step of cleaning is to load this CSV into Python using a pandas dataframe."
   ]
  },
  {
   "cell_type": "code",
   "execution_count": 2,
   "id": "b9b96524",
   "metadata": {},
   "outputs": [],
   "source": [
    "import pandas as pd\n",
    "import os\n",
    "\n",
    "testing_set = pd.read_csv(\"AI Testing Files/Input_Files/Manual Flagged Data.csv\")"
   ]
  },
  {
   "cell_type": "code",
   "execution_count": 3,
   "id": "42fb601a",
   "metadata": {},
   "outputs": [
    {
     "data": {
      "text/html": [
       "<div>\n",
       "<style scoped>\n",
       "    .dataframe tbody tr th:only-of-type {\n",
       "        vertical-align: middle;\n",
       "    }\n",
       "\n",
       "    .dataframe tbody tr th {\n",
       "        vertical-align: top;\n",
       "    }\n",
       "\n",
       "    .dataframe thead th {\n",
       "        text-align: right;\n",
       "    }\n",
       "</style>\n",
       "<table border=\"1\" class=\"dataframe\">\n",
       "  <thead>\n",
       "    <tr style=\"text-align: right;\">\n",
       "      <th></th>\n",
       "      <th>unit id</th>\n",
       "      <th>unitcode</th>\n",
       "      <th>level</th>\n",
       "      <th>description</th>\n",
       "      <th>credit points</th>\n",
       "      <th>position</th>\n",
       "      <th>flag</th>\n",
       "    </tr>\n",
       "  </thead>\n",
       "  <tbody>\n",
       "    <tr>\n",
       "      <th>0</th>\n",
       "      <td>4</td>\n",
       "      <td>EMPL3301</td>\n",
       "      <td>3</td>\n",
       "      <td>describe the core debates over the meaning of ...</td>\n",
       "      <td>6</td>\n",
       "      <td>1</td>\n",
       "      <td>GOOD</td>\n",
       "    </tr>\n",
       "    <tr>\n",
       "      <th>1</th>\n",
       "      <td>4</td>\n",
       "      <td>EMPL3301</td>\n",
       "      <td>3</td>\n",
       "      <td>explain the relationship between globalisation...</td>\n",
       "      <td>6</td>\n",
       "      <td>2</td>\n",
       "      <td>GOOD</td>\n",
       "    </tr>\n",
       "    <tr>\n",
       "      <th>2</th>\n",
       "      <td>4</td>\n",
       "      <td>EMPL3301</td>\n",
       "      <td>3</td>\n",
       "      <td>identify organisations and institutions centra...</td>\n",
       "      <td>6</td>\n",
       "      <td>3</td>\n",
       "      <td>NEEDS_REVISION</td>\n",
       "    </tr>\n",
       "    <tr>\n",
       "      <th>3</th>\n",
       "      <td>4</td>\n",
       "      <td>EMPL3301</td>\n",
       "      <td>3</td>\n",
       "      <td>gain a critical appreciation of how globalisat...</td>\n",
       "      <td>6</td>\n",
       "      <td>4</td>\n",
       "      <td>NEEDS_REVISION</td>\n",
       "    </tr>\n",
       "    <tr>\n",
       "      <th>4</th>\n",
       "      <td>4</td>\n",
       "      <td>EMPL3301</td>\n",
       "      <td>3</td>\n",
       "      <td>develop a critical understanding of individual...</td>\n",
       "      <td>6</td>\n",
       "      <td>5</td>\n",
       "      <td>GOOD</td>\n",
       "    </tr>\n",
       "    <tr>\n",
       "      <th>5</th>\n",
       "      <td>4</td>\n",
       "      <td>EMPL3301</td>\n",
       "      <td>3</td>\n",
       "      <td>demonstrate enhanced written, oral and informa...</td>\n",
       "      <td>6</td>\n",
       "      <td>6</td>\n",
       "      <td>GOOD</td>\n",
       "    </tr>\n",
       "    <tr>\n",
       "      <th>6</th>\n",
       "      <td>11</td>\n",
       "      <td>PSYC1101</td>\n",
       "      <td>1</td>\n",
       "      <td>explain the nature of some important psycholog...</td>\n",
       "      <td>6</td>\n",
       "      <td>1</td>\n",
       "      <td>GOOD</td>\n",
       "    </tr>\n",
       "    <tr>\n",
       "      <th>7</th>\n",
       "      <td>11</td>\n",
       "      <td>PSYC1101</td>\n",
       "      <td>1</td>\n",
       "      <td>identify the basic principles of psychological...</td>\n",
       "      <td>6</td>\n",
       "      <td>2</td>\n",
       "      <td>GOOD</td>\n",
       "    </tr>\n",
       "    <tr>\n",
       "      <th>8</th>\n",
       "      <td>11</td>\n",
       "      <td>PSYC1101</td>\n",
       "      <td>1</td>\n",
       "      <td>describe data relevant to psychological questi...</td>\n",
       "      <td>6</td>\n",
       "      <td>3</td>\n",
       "      <td>GOOD</td>\n",
       "    </tr>\n",
       "    <tr>\n",
       "      <th>9</th>\n",
       "      <td>11</td>\n",
       "      <td>PSYC1101</td>\n",
       "      <td>1</td>\n",
       "      <td>write research reports relevant to psychologic...</td>\n",
       "      <td>6</td>\n",
       "      <td>4</td>\n",
       "      <td>NEEDS_REVISION</td>\n",
       "    </tr>\n",
       "    <tr>\n",
       "      <th>10</th>\n",
       "      <td>11</td>\n",
       "      <td>PSYC1101</td>\n",
       "      <td>1</td>\n",
       "      <td>discuss and use the language of psychology app...</td>\n",
       "      <td>6</td>\n",
       "      <td>5</td>\n",
       "      <td>NEEDS_REVISION</td>\n",
       "    </tr>\n",
       "    <tr>\n",
       "      <th>11</th>\n",
       "      <td>92</td>\n",
       "      <td>ACCT2242</td>\n",
       "      <td>2</td>\n",
       "      <td>identify and explain the roles and components ...</td>\n",
       "      <td>6</td>\n",
       "      <td>1</td>\n",
       "      <td>NEEDS_REVISION</td>\n",
       "    </tr>\n",
       "    <tr>\n",
       "      <th>12</th>\n",
       "      <td>92</td>\n",
       "      <td>ACCT2242</td>\n",
       "      <td>2</td>\n",
       "      <td>describe the role of an internal control syste...</td>\n",
       "      <td>6</td>\n",
       "      <td>2</td>\n",
       "      <td>COULD_IMPROVE</td>\n",
       "    </tr>\n",
       "    <tr>\n",
       "      <th>13</th>\n",
       "      <td>92</td>\n",
       "      <td>ACCT2242</td>\n",
       "      <td>2</td>\n",
       "      <td>critically evaluate business processes and sys...</td>\n",
       "      <td>6</td>\n",
       "      <td>3</td>\n",
       "      <td>GOOD</td>\n",
       "    </tr>\n",
       "    <tr>\n",
       "      <th>14</th>\n",
       "      <td>92</td>\n",
       "      <td>ACCT2242</td>\n",
       "      <td>2</td>\n",
       "      <td>demonstrate basic data analytics and visualisa...</td>\n",
       "      <td>6</td>\n",
       "      <td>4</td>\n",
       "      <td>GOOD</td>\n",
       "    </tr>\n",
       "    <tr>\n",
       "      <th>15</th>\n",
       "      <td>92</td>\n",
       "      <td>ACCT2242</td>\n",
       "      <td>2</td>\n",
       "      <td>explain the impact of ICT on current and emerg...</td>\n",
       "      <td>6</td>\n",
       "      <td>5</td>\n",
       "      <td>GOOD</td>\n",
       "    </tr>\n",
       "    <tr>\n",
       "      <th>16</th>\n",
       "      <td>92</td>\n",
       "      <td>ACCT2242</td>\n",
       "      <td>2</td>\n",
       "      <td>develop competencies to work effectively in te...</td>\n",
       "      <td>6</td>\n",
       "      <td>6</td>\n",
       "      <td>NEEDS_REVISION</td>\n",
       "    </tr>\n",
       "    <tr>\n",
       "      <th>17</th>\n",
       "      <td>417</td>\n",
       "      <td>LAWS3214</td>\n",
       "      <td>3</td>\n",
       "      <td>explain the origins of the SDGs and their role...</td>\n",
       "      <td>6</td>\n",
       "      <td>1</td>\n",
       "      <td>NEEDS_REVISION</td>\n",
       "    </tr>\n",
       "    <tr>\n",
       "      <th>18</th>\n",
       "      <td>417</td>\n",
       "      <td>LAWS3214</td>\n",
       "      <td>3</td>\n",
       "      <td>synthesize knowledge of the 17 SDGs and descri...</td>\n",
       "      <td>6</td>\n",
       "      <td>2</td>\n",
       "      <td>NEEDS_REVISION</td>\n",
       "    </tr>\n",
       "    <tr>\n",
       "      <th>19</th>\n",
       "      <td>417</td>\n",
       "      <td>LAWS3214</td>\n",
       "      <td>3</td>\n",
       "      <td>assess the significance and effectiveness of t...</td>\n",
       "      <td>6</td>\n",
       "      <td>3</td>\n",
       "      <td>GOOD</td>\n",
       "    </tr>\n",
       "  </tbody>\n",
       "</table>\n",
       "</div>"
      ],
      "text/plain": [
       "    unit id  unitcode  level  \\\n",
       "0         4  EMPL3301      3   \n",
       "1         4  EMPL3301      3   \n",
       "2         4  EMPL3301      3   \n",
       "3         4  EMPL3301      3   \n",
       "4         4  EMPL3301      3   \n",
       "5         4  EMPL3301      3   \n",
       "6        11  PSYC1101      1   \n",
       "7        11  PSYC1101      1   \n",
       "8        11  PSYC1101      1   \n",
       "9        11  PSYC1101      1   \n",
       "10       11  PSYC1101      1   \n",
       "11       92  ACCT2242      2   \n",
       "12       92  ACCT2242      2   \n",
       "13       92  ACCT2242      2   \n",
       "14       92  ACCT2242      2   \n",
       "15       92  ACCT2242      2   \n",
       "16       92  ACCT2242      2   \n",
       "17      417  LAWS3214      3   \n",
       "18      417  LAWS3214      3   \n",
       "19      417  LAWS3214      3   \n",
       "\n",
       "                                          description  credit points  \\\n",
       "0   describe the core debates over the meaning of ...              6   \n",
       "1   explain the relationship between globalisation...              6   \n",
       "2   identify organisations and institutions centra...              6   \n",
       "3   gain a critical appreciation of how globalisat...              6   \n",
       "4   develop a critical understanding of individual...              6   \n",
       "5   demonstrate enhanced written, oral and informa...              6   \n",
       "6   explain the nature of some important psycholog...              6   \n",
       "7   identify the basic principles of psychological...              6   \n",
       "8   describe data relevant to psychological questi...              6   \n",
       "9   write research reports relevant to psychologic...              6   \n",
       "10  discuss and use the language of psychology app...              6   \n",
       "11  identify and explain the roles and components ...              6   \n",
       "12  describe the role of an internal control syste...              6   \n",
       "13  critically evaluate business processes and sys...              6   \n",
       "14  demonstrate basic data analytics and visualisa...              6   \n",
       "15  explain the impact of ICT on current and emerg...              6   \n",
       "16  develop competencies to work effectively in te...              6   \n",
       "17  explain the origins of the SDGs and their role...              6   \n",
       "18  synthesize knowledge of the 17 SDGs and descri...              6   \n",
       "19  assess the significance and effectiveness of t...              6   \n",
       "\n",
       "    position            flag  \n",
       "0          1            GOOD  \n",
       "1          2            GOOD  \n",
       "2          3  NEEDS_REVISION  \n",
       "3          4  NEEDS_REVISION  \n",
       "4          5            GOOD  \n",
       "5          6            GOOD  \n",
       "6          1            GOOD  \n",
       "7          2            GOOD  \n",
       "8          3            GOOD  \n",
       "9          4  NEEDS_REVISION  \n",
       "10         5  NEEDS_REVISION  \n",
       "11         1  NEEDS_REVISION  \n",
       "12         2   COULD_IMPROVE  \n",
       "13         3            GOOD  \n",
       "14         4            GOOD  \n",
       "15         5            GOOD  \n",
       "16         6  NEEDS_REVISION  \n",
       "17         1  NEEDS_REVISION  \n",
       "18         2  NEEDS_REVISION  \n",
       "19         3            GOOD  "
      ]
     },
     "execution_count": 3,
     "metadata": {},
     "output_type": "execute_result"
    }
   ],
   "source": [
    "testing_set.head(20)"
   ]
  },
  {
   "cell_type": "markdown",
   "id": "75ee15e9",
   "metadata": {},
   "source": [
    "Upon running the above commands, we can see the first 5 rows of the test dataset. Using the pandas library allows us to perform some elementary analysis of these outcomes, first of which is counting the number of outcomes classified into the three flag categories."
   ]
  },
  {
   "cell_type": "code",
   "execution_count": 4,
   "id": "4f4d7c12",
   "metadata": {},
   "outputs": [
    {
     "name": "stdout",
     "output_type": "stream",
     "text": [
      "The number of good learning outcomes is 42.\n",
      "The number of good learning outcomes is 19.\n",
      "The number of good learning outcomes is 4.\n"
     ]
    }
   ],
   "source": [
    "good_rows = testing_set[testing_set.flag == \"GOOD\"]\n",
    "needs_revision_rows = testing_set[testing_set.flag == \"NEEDS_REVISION\"]\n",
    "could_improve_rows = testing_set[testing_set.flag == \"COULD_IMPROVE\"]\n",
    "\n",
    "count_good = len(good_rows)\n",
    "count_needs_revision = len(needs_revision_rows)\n",
    "count_could_improve = len(could_improve_rows)\n",
    "\n",
    "print(f\"The number of good learning outcomes is {count_good}.\")\n",
    "print(f\"The number of good learning outcomes is {count_needs_revision}.\")\n",
    "print(f\"The number of good learning outcomes is {count_could_improve}.\")"
   ]
  },
  {
   "cell_type": "markdown",
   "id": "420b822b",
   "metadata": {},
   "source": [
    "This metric allows us to construct the first set of tests, the F1 score and confusion matrix. These tests are used to determine the classification accuracy of our model by calculating the number of tests that are matched in evaluation as well as counting the number of false positives and false negatives."
   ]
  },
  {
   "cell_type": "code",
   "execution_count": 5,
   "id": "371206fe",
   "metadata": {},
   "outputs": [],
   "source": [
    "descriptions = testing_set[\"description\"]"
   ]
  },
  {
   "cell_type": "markdown",
   "id": "614c599d",
   "metadata": {},
   "source": [
    "## Structuring Data for Evaluation\n",
    "\n",
    "To test the core AI learning outcome evaluation function we need to organise the data to follow the expected structure of the evaluation function. The run_eval function as run on our website takes the list of learning outcomes written in our table, structures them into a prompt template and passes it into our AI which outputs a response/feedback. The function requires the following parameters:\n",
    "\n",
    "- Unit Code\n",
    "- Learning Outcomes Description\n",
    "- Credit Points\n",
    "- Unit Level\n",
    "\n",
    "The learning outcomes descriptions takes each row in the table of learning outcome descriptions and joins them together into a singular string which is passed through to the function. As an example, we'll construct a prompt for the unit ACCT2242."
   ]
  },
  {
   "cell_type": "code",
   "execution_count": 6,
   "id": "2cc668d5",
   "metadata": {},
   "outputs": [
    {
     "name": "stdout",
     "output_type": "stream",
     "text": [
      "['identify and explain the roles and components of AIS', 'describe the role of an internal control system in maintaining data integrity and recommend internal control improvements to protect key business processes', 'critically evaluate business processes and system documentation', 'demonstrate basic data analytics and visualisation techniques that enhances the efficiency and effectiveness of communication', 'explain the impact of ICT on current and emerging accounting practices', 'develop competencies to work effectively in teams to resolve ICT issues.']\n"
     ]
    }
   ],
   "source": [
    "text = []\n",
    "for i in range(11, 17):\n",
    "    text.append(f\"{descriptions[i]}\")\n",
    "\n",
    "#outcomes_text = \"\\n\".join(text)\n",
    "print(text)\n",
    "\n",
    "outcomes_text = \"\\n\".join(text)"
   ]
  },
  {
   "cell_type": "code",
   "execution_count": 7,
   "id": "e155dcaa",
   "metadata": {},
   "outputs": [
    {
     "data": {
      "text/plain": [
       "'identify and explain the roles and components of AIS\\ndescribe the role of an internal control system in maintaining data integrity and recommend internal control improvements to protect key business processes\\ncritically evaluate business processes and system documentation\\ndemonstrate basic data analytics and visualisation techniques that enhances the efficiency and effectiveness of communication\\nexplain the impact of ICT on current and emerging accounting practices\\ndevelop competencies to work effectively in teams to resolve ICT issues.'"
      ]
     },
     "execution_count": 7,
     "metadata": {},
     "output_type": "execute_result"
    }
   ],
   "source": [
    "outcomes_text"
   ]
  },
  {
   "cell_type": "markdown",
   "id": "88062d6b",
   "metadata": {},
   "source": [
    "Above we write a simple code to convert the list of learning outcomes to the single string, below we define all the key parameters of the unit in order to pass it through to the run_eval function."
   ]
  },
  {
   "cell_type": "code",
   "execution_count": 8,
   "id": "ec2d12ed",
   "metadata": {},
   "outputs": [
    {
     "name": "stdout",
     "output_type": "stream",
     "text": [
      "identify and explain the roles and components of AIS\n",
      "describe the role of an internal control system in maintaining data integrity and recommend internal control improvements to protect key business processes\n",
      "critically evaluate business processes and system documentation\n",
      "demonstrate basic data analytics and visualisation techniques that enhances the efficiency and effectiveness of communication\n",
      "explain the impact of ICT on current and emerging accounting practices\n",
      "develop competencies to work effectively in teams to resolve ICT issues.\n"
     ]
    }
   ],
   "source": [
    "unitcode = \"ACCT2242\"\n",
    "level = \"2\"\n",
    "creditpoints = \"6\"\n",
    "print(outcomes_text)"
   ]
  },
  {
   "cell_type": "code",
   "execution_count": 48,
   "id": "cebf91e6",
   "metadata": {},
   "outputs": [
    {
     "data": {
      "text/plain": [
       "['demonstrate an ability to work effectively in laboratory teams',\n",
       " 'analyse two basic principles (generation of EMF and torque) that govern electromagnetic energy conversion and differentiate between motor and generator operation',\n",
       " 'analyse the performance (regulation, losses and efficiency) of DC machines, transformers, induction and synchronous machines based on the equivalent circuits',\n",
       " 'explain the working principle of transformers and AC electrical machines by using phasor diagrams',\n",
       " 'analyse torque-speed characteristics to develop speed control techniques for DC and induction motors',\n",
       " 'develop transmission line parameters and power system representation',\n",
       " 'demonstrate compliance with work, health and safety regulations, codes and standards when operating electrical machines']"
      ]
     },
     "execution_count": 48,
     "metadata": {},
     "output_type": "execute_result"
    }
   ],
   "source": [
    "outcomes_list = outcomes_text.splitlines()\n",
    "\n",
    "# Strip any leading/trailing whitespace from each line\n",
    "outcomes_list = [line.strip() for line in outcomes_list if line.strip()]\n",
    "\n",
    "outcomes_list"
   ]
  },
  {
   "cell_type": "code",
   "execution_count": null,
   "id": "78c15618",
   "metadata": {},
   "outputs": [],
   "source": [
    "os.environ[\"GOOGLE_API_KEY\"] = 'your-api-key'\n",
    "from ai_testing_evaluate import run_eval_test"
   ]
  },
  {
   "cell_type": "code",
   "execution_count": 13,
   "id": "2cff9204",
   "metadata": {},
   "outputs": [
    {
     "name": "stdout",
     "output_type": "stream",
     "text": [
      "**LO Analysis**\n",
      "\n",
      "'identify and explain the roles and components of AIS' - STATUS:GOOD - This learning outcome appropriately targets the Comprehension level by requiring students to both identify (knowledge) and explain (comprehension) key elements of AIS.\n",
      "\n",
      "'describe the role of an internal control system in maintaining data integrity and recommend internal control improvements to protect key business processes' - STATUS:COULD_IMPROVE - While ‘describe’ is appropriate for Level 2, the inclusion of ‘recommend’ pushes towards Application. SUGGESTION: ‘describe the role of an internal control system in maintaining data integrity and *explain how* internal controls protect key business processes.’\n",
      "\n",
      "'critically evaluate business processes and system documentation' - STATUS:NEEDS_REVISION - ‘Critically evaluate’ is a high-order thinking skill belonging to the Evaluation level (Level 6), far exceeding the scope of a Level 2 unit. SUGGESTION: ‘compare and contrast business processes and system documentation, identifying key strengths and weaknesses.’\n",
      "\n",
      "'demonstrate basic data analytics and visualisation techniques that enhances the efficiency and effectiveness of communication' - STATUS:NEEDS_REVISION - ‘Demonstrate’ is an Application level verb and is too high for this unit. SUGGESTION: ‘explain basic data analytics and visualisation techniques and their potential to enhance communication.’\n",
      "\n",
      "'explain the impact of ICT on current and emerging accounting practices' - STATUS:GOOD - This learning outcome is well-suited to the Comprehension level, asking students to explain the impact of a concept.\n",
      "\n",
      "'develop competencies to work effectively in teams to resolve ICT issues.' - STATUS:NEEDS_REVISION - ‘Develop’ implies a creation or synthesis of skills, which is beyond the scope of Comprehension. SUGGESTION: ‘describe the key skills required to work effectively in teams to resolve ICT issues.’\n",
      "\n",
      "**SUMMARY**\n",
      "\n",
      "The unit has 6 Learning Outcomes, which is appropriate for a 6-point unit. However, three of the Learning Outcomes are not aligned with the expected Bloom's level of Comprehension and require revision to ensure they focus on explaining, describing, or illustrating concepts rather than applying, evaluating, or creating.\n",
      "\n"
     ]
    }
   ],
   "source": [
    "response = run_eval_test(level=level, unit_name=unitcode, credit_points=creditpoints, outcomes_text=outcomes_text)\n",
    "\n",
    "print(response)"
   ]
  },
  {
   "cell_type": "code",
   "execution_count": 14,
   "id": "e34bdc7b",
   "metadata": {},
   "outputs": [
    {
     "name": "stdout",
     "output_type": "stream",
     "text": [
      "'identify and explain the roles and components of AIS' - STATUS:GOOD - This learning outcome appropriately targets the Comprehension level by requiring students to both identify (knowledge) and explain (comprehension) key elements of AIS.\n",
      "'describe the role of an internal control system in maintaining data integrity and recommend internal control improvements to protect key business processes' - STATUS:COULD_IMPROVE - While ‘describe’ is appropriate for Level 2, the inclusion of ‘recommend’ pushes towards Application. SUGGESTION: ‘describe the role of an internal control system in maintaining data integrity and *explain how* internal controls protect key business processes.’\n",
      "'critically evaluate business processes and system documentation' - STATUS:NEEDS_REVISION - ‘Critically evaluate’ is a high-order thinking skill belonging to the Evaluation level (Level 6), far exceeding the scope of a Level 2 unit. SUGGESTION: ‘compare and contrast business processes and system documentation, identifying key strengths and weaknesses.’\n",
      "'demonstrate basic data analytics and visualisation techniques that enhances the efficiency and effectiveness of communication' - STATUS:NEEDS_REVISION - ‘Demonstrate’ is an Application level verb and is too high for this unit. SUGGESTION: ‘explain basic data analytics and visualisation techniques and their potential to enhance communication.’\n",
      "'explain the impact of ICT on current and emerging accounting practices' - STATUS:GOOD - This learning outcome is well-suited to the Comprehension level, asking students to explain the impact of a concept.\n",
      "'develop competencies to work effectively in teams to resolve ICT issues.' - STATUS:NEEDS_REVISION - ‘Develop’ implies a creation or synthesis of skills, which is beyond the scope of Comprehension. SUGGESTION: ‘describe the key skills required to work effectively in teams to resolve ICT issues.’\n"
     ]
    }
   ],
   "source": [
    "import re\n",
    "\n",
    "# Assume `response` contains the full AI output\n",
    "\n",
    "# 1️⃣ Isolate the LO Analysis section\n",
    "match = re.search(r\"\\*\\*LO Analysis\\*\\*(.*?)(?:\\n\\n\\*\\*SUMMARY\\*\\*|$)\", response, re.DOTALL)\n",
    "lo_section = match.group(1).strip() if match else \"\"\n",
    "\n",
    "# 2️⃣ Split each learning outcome line (lines starting with a quote)\n",
    "lo_lines = [line.strip() for line in lo_section.split('\\n') if line.strip().startswith(\"'\")]\n",
    "\n",
    "# Example output\n",
    "for line in lo_lines:\n",
    "    print(line)"
   ]
  },
  {
   "cell_type": "code",
   "execution_count": 15,
   "id": "aae793df",
   "metadata": {},
   "outputs": [
    {
     "data": {
      "text/plain": [
       "list"
      ]
     },
     "execution_count": 15,
     "metadata": {},
     "output_type": "execute_result"
    }
   ],
   "source": [
    "type(lo_lines)"
   ]
  },
  {
   "cell_type": "code",
   "execution_count": 16,
   "id": "7f06865e",
   "metadata": {},
   "outputs": [
    {
     "name": "stdout",
     "output_type": "stream",
     "text": [
      "('identify and explain the roles and components of AIS', 'identify and explain the roles and components of AIS')\n",
      "('describe the role of an internal control system in maintaining data integrity and recommend internal control improvements to protect key business processes', 'describe the role of an internal control system in maintaining data integrity and *explain how* internal controls protect key business processes.')\n",
      "('critically evaluate business processes and system documentation', 'compare and contrast business processes and system documentation, identifying key strengths and weaknesses.')\n",
      "('demonstrate basic data analytics and visualisation techniques that enhances the efficiency and effectiveness of communication', 'explain basic data analytics and visualisation techniques and their potential to enhance communication.')\n",
      "('explain the impact of ICT on current and emerging accounting practices', 'explain the impact of ICT on current and emerging accounting practices')\n",
      "('develop competencies to work effectively in teams to resolve ICT issues.', 'describe the key skills required to work effectively in teams to resolve ICT issues.')\n"
     ]
    }
   ],
   "source": [
    "final_results = []\n",
    "\n",
    "# Iterate through each LO line\n",
    "for i, line in enumerate(lo_lines):\n",
    "    # Regex to extract SUGGESTION if it exists\n",
    "    match = re.search(r\"SUGGESTION:\\s*[‘'](.*?)[’']\", line)\n",
    "    if match:\n",
    "        suggested = match.group(1).strip()\n",
    "    else:\n",
    "        suggested = outcomes_list[i]  # or original_outcomes[i] if you want to fallback to original\n",
    "    final_results.append((outcomes_list[i], suggested))\n",
    "\n",
    "# Example output\n",
    "for outcome, suggestion in final_results:\n",
    "    print((outcome, suggestion))\n"
   ]
  },
  {
   "cell_type": "markdown",
   "id": "d62f2f76",
   "metadata": {},
   "source": [
    "Here we've taken the first unit's set of learning outcomes and general information and fed it through our AI evaluation tool. Looking at the output, we can see that it is constrcuted to provide a STATUS flag, general feedback and a suggested rewrite to align more with Bloom's taxonomy. For classification testing, we can extract the outputted flag using a regex (regular expression) to isolate the flag and add it to a new column."
   ]
  },
  {
   "cell_type": "markdown",
   "id": "214b60d1",
   "metadata": {},
   "source": [
    "For the bulk manual data testing, we group the data by unit and construct the required template to generate AI flags for each unit."
   ]
  },
  {
   "cell_type": "code",
   "execution_count": 27,
   "id": "cf2dd137",
   "metadata": {},
   "outputs": [],
   "source": [
    "grouped_data = testing_set.groupby('unitcode', sort=False)\n",
    "\n",
    "ai_data , total_outcomes = [], []\n",
    "for unitcode, group in grouped_data:\n",
    "        unit_data = group.iloc[0]  # same metadata for each outcome\n",
    "        outcomes = group['description'].dropna().tolist()\n",
    "\n",
    "        outcomes_text = \"\\n\".join(outcomes)\n",
    "\n",
    "        ai_data.append({\n",
    "            \"unitcode\": unitcode,\n",
    "            \"level\": int(unit_data['level']),\n",
    "            \"credit_points\": int(unit_data['credit points']),\n",
    "            \"outcomes\": outcomes_text\n",
    "        })\n",
    "\n",
    "        total_outcomes.append(outcomes)\n"
   ]
  },
  {
   "cell_type": "code",
   "execution_count": 28,
   "id": "37627585",
   "metadata": {},
   "outputs": [
    {
     "data": {
      "text/plain": [
       "[[\"describe the core debates over the meaning of the term 'globalisation'\",\n",
       "  'explain the relationship between globalisation and labour market and workplace restructuring',\n",
       "  'identify organisations and institutions central to globalisation and their impact on work',\n",
       "  'gain a critical appreciation of how globalisation reshapes the experience of work and worker identity',\n",
       "  'develop a critical understanding of individual and collective responses to the impact of globalisation on work',\n",
       "  'demonstrate enhanced written, oral and information literacy skills through participation in class discussions, and through the preparation of an individual essay and written responses in the final examination'],\n",
       " ['explain the nature of some important psychological processes, how they are measured, and their relation to brain function',\n",
       "  'identify the basic principles of psychological measurement and experimental design',\n",
       "  'describe data relevant to psychological questions and draw appropriate inferences from such data',\n",
       "  'write research reports relevant to psychological issues in the format appropriate for psychological science (American Psychological Association style)',\n",
       "  'discuss and use the language of psychology appropriately'],\n",
       " ['identify and explain the roles and components of AIS',\n",
       "  'describe the role of an internal control system in maintaining data integrity and recommend internal control improvements to protect key business processes',\n",
       "  'critically evaluate business processes and system documentation',\n",
       "  'demonstrate basic data analytics and visualisation techniques that enhances the efficiency and effectiveness of communication',\n",
       "  'explain the impact of ICT on current and emerging accounting practices',\n",
       "  'develop competencies to work effectively in teams to resolve ICT issues.'],\n",
       " ['explain the origins of the SDGs and their role in achieving global UN goals;',\n",
       "  'synthesize knowledge of the 17 SDGs and describe their relationship with international law and policy;',\n",
       "  'assess the significance and effectiveness of the SDGs at the global and national level;',\n",
       "  'demonstrate advanced oral and written communication skills ;',\n",
       "  'develop and apply skills in independent scholarly research'],\n",
       " ['demonstrate critical thinking and information literacy',\n",
       "  'demonstrate a familiarity with basic set theory, relations, functions, predicate logic, correctness proofs, finite state automata and automata theory as tools used in computer science and software engineering',\n",
       "  'identify, abstract and analyse problems in computer science and software engineering using the mathematical models',\n",
       "  'apply logical reasoning to problems in software engineering'],\n",
       " ['evaluate arguments in philosophical texts',\n",
       "  'independently construct arguments for philosophical positions',\n",
       "  'apply the methodologies of contemporary philosophy',\n",
       "  'evaluate assumptions underpinning ethical theories',\n",
       "  'demonstrate sound research skills and written and oral communication skills',\n",
       "  'demonstrate an understanding of important historical and contemporary philosophical ideas in moral philosophy',\n",
       "  'articulate a number of contemporary ethical problems arising out of the development of digital technologies',\n",
       "  'demonstrate their understanding of, and evaluate, several influential ethical theories',\n",
       "  'apply the ethical theories studied to the problems arising out of the development of digital technologies',\n",
       "  'apply ethical theories to, and reason effectively about, new ethical questions'],\n",
       " ['demonstrate professional engineering skills and abilities when working in teams',\n",
       "  'demonstrate the ability to model power systems components (transmission lines, transformers, generators and loads)',\n",
       "  'analyse the power flow of a simple interconnected power system with multiple sources and loads using Gauss-Siedal, Newton Raphson, and decoupled power flow methods',\n",
       "  'analyse the impact of short-circuit faults on the power network and make design changes to the network to control the fault currents',\n",
       "  'analyse various protection schemes for power transmission and distribution systems',\n",
       "  'analyse the techniques for control of voltage and frequency of interconnected power systems',\n",
       "  'Identify potential hazards and describe safety measures'],\n",
       " ['analyse the concepts and physical principles related to magnetism, the foundations of quantum mechanics and electronic properties of materials;',\n",
       "  'communicate ideas, both orally and written, relating to related to magnetism, the foundations of quantum mechanics and electronic devices;',\n",
       "  'solve problems in a range of realistic situations relating to magnetism, the foundations of quantum mechanics and electronic properties of materials',\n",
       "  'execute experiments relevant to magnetism and electronic devices; and',\n",
       "  'evaluate the results of an experiment to magnetism and electronic devices.'],\n",
       " ['explain the clinical signs, symptoms and pathogenesis of systemic conditions relevant to dental practice',\n",
       "  'discuss the pathogenicity and virulence of micro-organisms, the sources of infection and routes of transmission, and the role of vaccines in infectious (communicable) diseases',\n",
       "  'apply the principles of infection prevention and control in dental practice, including when treating patients with communicable diseases',\n",
       "  'explain the measures required to manage systemic medical conditions during dental treatment',\n",
       "  'classify the most common medical emergencies in dental practice and their management',\n",
       "  'explain the principles of drug delivery, drug metabolism and associated pharmacological aspects as they relate to dental practice',\n",
       "  'explain how various drugs can affect dental practice and how these situations can be managed',\n",
       "  'outline the common medications used in dental practice including their indications, contra-indications and management of adverse reactions',\n",
       "  'outline the regulatory requirements and demonstrate how to write a prescription',\n",
       "  'display professional behaviour in the educational and clinical setting'],\n",
       " ['demonstrate an ability to work effectively in laboratory teams',\n",
       "  'analyse two basic principles (generation of EMF and torque) that govern electromagnetic energy conversion and differentiate between motor and generator operation',\n",
       "  'analyse the performance (regulation, losses and efficiency) of DC machines, transformers, induction and synchronous machines based on the equivalent circuits',\n",
       "  'explain the working principle of transformers and AC electrical machines by using phasor diagrams',\n",
       "  'analyse torque-speed characteristics to develop speed control techniques for DC and induction motors',\n",
       "  'develop transmission line parameters and power system representation',\n",
       "  'demonstrate compliance with work, health and safety regulations, codes and standards when operating electrical machines']]"
      ]
     },
     "execution_count": 28,
     "metadata": {},
     "output_type": "execute_result"
    }
   ],
   "source": [
    "total_outcomes"
   ]
  },
  {
   "cell_type": "code",
   "execution_count": 29,
   "id": "7c84dcfa",
   "metadata": {},
   "outputs": [
    {
     "name": "stdout",
     "output_type": "stream",
     "text": [
      "{'unitcode': 'EMPL3301', 'level': 3, 'credit_points': 6, 'outcomes': \"describe the core debates over the meaning of the term 'globalisation'\\nexplain the relationship between globalisation and labour market and workplace restructuring\\nidentify organisations and institutions central to globalisation and their impact on work\\ngain a critical appreciation of how globalisation reshapes the experience of work and worker identity\\ndevelop a critical understanding of individual and collective responses to the impact of globalisation on work\\ndemonstrate enhanced written, oral and information literacy skills through participation in class discussions, and through the preparation of an individual essay and written responses in the final examination\"}\n"
     ]
    }
   ],
   "source": [
    "print(ai_data[0])"
   ]
  },
  {
   "cell_type": "code",
   "execution_count": 30,
   "id": "f3dacab9",
   "metadata": {},
   "outputs": [
    {
     "name": "stdout",
     "output_type": "stream",
     "text": [
      "\n",
      "🔹 Processing 1/10: EMPL3301\n",
      "✅ Completed EMPL3301\n",
      "\n",
      "🔹 Processing 2/10: PSYC1101\n",
      "✅ Completed PSYC1101\n",
      "\n",
      "🔹 Processing 3/10: ACCT2242\n",
      "✅ Completed ACCT2242\n",
      "\n",
      "🔹 Processing 4/10: LAWS3214\n",
      "✅ Completed LAWS3214\n",
      "\n",
      "🔹 Processing 5/10: CITS2211\n",
      "✅ Completed CITS2211\n",
      "\n",
      "🔹 Processing 6/10: PHIL1001\n",
      "✅ Completed PHIL1001\n",
      "\n",
      "🔹 Processing 7/10: ELEC5505\n",
      "✅ Completed ELEC5505\n",
      "\n",
      "🔹 Processing 8/10: PHYS2003\n",
      "✅ Completed PHYS2003\n",
      "\n",
      "🔹 Processing 9/10: DENT3005\n",
      "✅ Completed DENT3005\n",
      "\n",
      "🔹 Processing 10/10: ELEC3016\n",
      "✅ Completed ELEC3016\n"
     ]
    }
   ],
   "source": [
    "import time\n",
    "import random\n",
    "from httpx import RemoteProtocolError\n",
    "\n",
    "responses = []\n",
    "\n",
    "DELAY_SECONDS = 3\n",
    "MAX_RETRIES = 4\n",
    "\n",
    "for i, entry in enumerate(ai_data, start=1):\n",
    "    print(f\"\\n🔹 Processing {i}/{len(ai_data)}: {entry['unitcode']}\")\n",
    "\n",
    "    retries = 0\n",
    "    success = False\n",
    "\n",
    "    while retries < MAX_RETRIES and not success:\n",
    "        try:\n",
    "            response = run_eval_test(\n",
    "                level=entry['level'],\n",
    "                unit_name=entry['unitcode'],\n",
    "                credit_points=entry['credit_points'],\n",
    "                outcomes_text=entry['outcomes']\n",
    "            )\n",
    "\n",
    "            # Append the raw response to the list\n",
    "            responses.append({\n",
    "                \"unitcode\": entry['unitcode'],\n",
    "                \"response\": response\n",
    "            })\n",
    "\n",
    "            print(f\"✅ Completed {entry['unitcode']}\")\n",
    "            success = True\n",
    "\n",
    "        except RemoteProtocolError:\n",
    "            retries += 1\n",
    "            wait_time = DELAY_SECONDS * retries + random.uniform(1, 2)\n",
    "            print(f\"⚠️ Server disconnected. Retrying in {wait_time:.1f}s (attempt {retries}/{MAX_RETRIES})...\")\n",
    "            time.sleep(wait_time)\n",
    "\n",
    "        except Exception as e:\n",
    "            print(f\"❌ Unexpected error for {entry['unitcode']}: {e}\")\n",
    "            responses.append({\n",
    "                \"unitcode\": entry['unitcode'],\n",
    "                \"response\": None,\n",
    "                \"error\": str(e)\n",
    "            })\n",
    "            break\n",
    "\n",
    "    # Optional delay to reduce load\n",
    "    if success:\n",
    "        time.sleep(DELAY_SECONDS + random.uniform(0.5, 1.5))\n"
   ]
  },
  {
   "cell_type": "markdown",
   "id": "06c47205",
   "metadata": {},
   "source": [
    "After running the evaluation function, we a get a list of dict responses. To get the status flag, we use a regex function to isolate the STATUS from the response lines. We also use a regex to isolate the content in each lines suggested revision section."
   ]
  },
  {
   "cell_type": "code",
   "execution_count": 21,
   "id": "a110e1f2",
   "metadata": {},
   "outputs": [
    {
     "data": {
      "text/plain": [
       "[{'unitcode': 'EMPL3301',\n",
       "  'response': \"**LO Analysis**\\n\\n'describe the core debates over the meaning of the term 'globalisation'' - STATUS:NEEDS_REVISION - This outcome is at the Comprehension level (Bloom's Taxonomy) rather than Application. SUGGESTION: 'Apply knowledge of core debates surrounding globalisation to analyse contemporary case studies.'\\n\\n'explain the relationship between globalisation and labour market and workplace restructuring' - STATUS:NEEDS_REVISION - This outcome is at the Comprehension level, focusing on explanation rather than application. SUGGESTION: 'Apply theories of globalisation to explain observed changes in labour markets and workplace restructuring.'\\n\\n'identify organisations and institutions central to globalisation and their impact on work' - STATUS:NEEDS_REVISION - This outcome is at the Knowledge level, simply asking for identification. SUGGESTION: 'Utilise knowledge of key organisations and institutions involved in globalisation to assess their impact on specific work contexts.'\\n\\n'gain a critical appreciation of how globalisation reshapes the experience of work and worker identity' - STATUS:COULD_IMPROVE - While aiming for criticality, the verb 'gain' is weak and doesn't clearly indicate an action demonstrating application. SUGGESTION: 'Demonstrate an ability to analyse how globalisation reshapes the experience of work and worker identity through case study analysis.'\\n\\n'develop a critical understanding of individual and collective responses to the impact of globalisation on work' - STATUS:NEEDS_REVISION - Similar to the previous outcome, 'develop' is weak and the focus is on understanding, not application. SUGGESTION: 'Apply theoretical frameworks to evaluate individual and collective responses to the impact of globalisation on work.'\\n\\n'demonstrate enhanced written, oral and information literacy skills through participation in class discussions, and through the preparation of an individual essay and written responses in the final examination' - STATUS:GOOD - This outcome appropriately focuses on demonstrating skills through application in various assessment tasks.\\n\\n**SUMMARY**\\n\\nThe unit has 6 Learning Outcomes, which is appropriate for a 6-point unit. However, the majority of the outcomes are currently written at the Comprehension or Knowledge levels and require revision to align with the expected Application level (Level 3) of Bloom's Taxonomy.\\n\"},\n",
       " {'unitcode': 'PSYC1101',\n",
       "  'response': \"**LO Analysis**\\n\\n'explain the nature of some important psychological processes, how they are measured, and their relation to brain function' - STATUS:NEEDS_REVISION - This outcome is at the Comprehension level (explain) and is too high for a Level 1 (Knowledge) unit. SUGGESTION: 'Define key psychological processes and identify their relationship to brain function.'\\n\\n'identify the basic principles of psychological measurement and experimental design' - STATUS:GOOD - This outcome uses the appropriate verb 'identify' for the Knowledge level and focuses on recalling information.\\n\\n'describe data relevant to psychological questions and draw appropriate inferences from such data' - STATUS:NEEDS_REVISION - The verb 'describe' is Comprehension, and 'draw inferences' is Analysis, making this outcome too advanced for Level 1. SUGGESTION: 'List types of data used in psychological research and recall basic descriptive statistics.'\\n\\n'write research reports relevant to psychological issues in the format appropriate for psychological science (American Psychological Association style)' - STATUS:NEEDS_REVISION - 'Write' is an Application level verb and is far too complex for a Level 1 unit. SUGGESTION: 'List the key components of a research report in APA style.'\\n\\n'discuss and use the language of psychology appropriately' - STATUS:COULD_IMPROVE - 'Discuss' leans towards Comprehension. While not drastically wrong, it could be more focused on basic recall. SUGGESTION: 'Define key terms used in psychology.'\\n\\n**SUMMARY**\\n\\nThe unit has 5 Learning Outcomes, which is within the acceptable range for a 6-point unit (3-6). However, the majority of the outcomes are not aligned with the expected Bloom's Taxonomy level of Knowledge (Level 1) and require revision to focus on recall and basic identification of concepts.\\n\\n\\n\\n\"},\n",
       " {'unitcode': 'ACCT2242',\n",
       "  'response': \"**LO Analysis**\\n\\n'identify and explain the roles and components of AIS' - STATUS:GOOD - This learning outcome appropriately targets the Comprehension level by requiring students to both identify (knowledge) and explain (comprehension) key elements of AIS.\\n\\n'describe the role of an internal control system in maintaining data integrity and recommend internal control improvements to protect key business processes' - STATUS:COULD_IMPROVE - While ‘describe’ is appropriate for Level 2, the inclusion of ‘recommend’ pushes towards Application. SUGGESTION: ‘describe the role of an internal control system in maintaining data integrity and *explain* potential improvements to protect key business processes.’\\n\\n'critically evaluate business processes and system documentation' - STATUS:NEEDS_REVISION - ‘Critically evaluate’ is a high-order thinking skill belonging to the Evaluation level (Level 6), far exceeding the scope of a Level 2 unit. SUGGESTION: ‘compare and contrast business processes and system documentation, identifying key strengths and weaknesses.’\\n\\n'demonstrate basic data analytics and visualisation techniques that enhances the efficiency and effectiveness of communication' - STATUS:NEEDS_REVISION - ‘Demonstrate’ is an Application level verb and is too high for this unit. SUGGESTION: ‘explain basic data analytics and visualisation techniques and their potential to enhance communication.’\\n\\n'explain the impact of ICT on current and emerging accounting practices' - STATUS:GOOD - This learning outcome is well-suited to the Comprehension level, asking students to explain the impact of a concept.\\n\\n'develop competencies to work effectively in teams to resolve ICT issues.' - STATUS:NEEDS_REVISION - ‘Develop’ implies a creation or synthesis of skills, which is beyond the scope of Comprehension. SUGGESTION: ‘describe the key skills required to work effectively in teams to resolve ICT issues.’\\n\\n**SUMMARY**\\n\\nThe unit has 6 Learning Outcomes, which is appropriate for a 6-point unit. However, three of the Learning Outcomes are not aligned with the expected Bloom's level of Comprehension and require revision to ensure they focus on explaining, describing, or illustrating concepts rather than applying, evaluating, or creating.\\n\"},\n",
       " {'unitcode': 'LAWS3214',\n",
       "  'response': \"**LO Analysis**\\n\\n'explain the origins of the SDGs and their role in achieving global UN goals;' - STATUS:GOOD - This outcome appropriately uses the 'explain' verb from the Comprehension level (Level 2) and focuses on understanding foundational concepts, fitting well within the early stages of a university unit.\\n\\n'synthesize knowledge of the 17 SDGs and describe their relationship with international law and policy;' - STATUS:NEEDS_REVISION - The verb 'synthesize' is from the Synthesis level (Level 5), which is too high for a Level 3 unit. SUGGESTION: 'Relate knowledge of the 17 SDGs to international law and policy, providing examples of their interconnectedness.'\\n\\n'assess the significance and effectiveness of the SDGs at the global and national level;' - STATUS:NEEDS_REVISION - The verb 'assess' is from the Evaluation level (Level 6), which is too high for a Level 3 unit. SUGGESTION: 'Apply understanding of the SDGs to analyse their impact at the global and national level, identifying key successes and challenges.'\\n\\n'demonstrate advanced oral and written communication skills ;' - STATUS:COULD_IMPROVE - While 'demonstrate' is acceptable for Application (Level 3), the outcome is vague and doesn't specify *how* these skills will be demonstrated in relation to the unit content. SUGGESTION: 'Demonstrate application of legal reasoning and research through written assignments and oral presentations relating to the SDGs.'\\n\\n'develop and apply skills in independent scholarly research' - STATUS:GOOD - This outcome uses the 'apply' verb from the Application level (Level 3) and focuses on practical skill development relevant to university study.\\n\\n**SUMMARY**\\n\\nThe unit has 5 Learning Outcomes, which is within the acceptable range for a 6-point unit. However, two of the outcomes are at inappropriate Bloom's levels (Synthesis and Evaluation) and require revision to align with the expected Application focus of Level 3.\\n\\n\\n\\n\"},\n",
       " {'unitcode': 'CITS2211',\n",
       "  'response': '**LO Analysis**\\n\\n\\'demonstrate critical thinking and information literacy\\' - STATUS:NEEDS_REVISION - This outcome is too vague and moves into the Analysis level with \"critical thinking\". SUGGESTION: \\'Explain the core principles of information literacy and demonstrate their application in evaluating sources.\\'\\n\\n\\'demonstrate a familiarity with basic set theory, relations, functions, predicate logic, correctness proofs, finite state automata and automata theory as tools used in computer science and software engineering\\' - STATUS:GOOD - This outcome appropriately focuses on recalling and recognising key concepts within the specified domain, fitting the Comprehension level.\\n\\n\\'identify, abstract and analyse problems in computer science and software engineering using the mathematical models\\' - STATUS:NEEDS_REVISION - The verb \"analyse\" pushes this outcome into the Analysis level, which is too high for a Level 2 unit. SUGGESTION: \\'Describe how mathematical models can be used to represent problems in computer science and software engineering.\\'\\n\\n\\'apply logical reasoning to problems in software engineering\\' - STATUS:COULD_IMPROVE - While \\'apply\\' is generally an Application level verb, the phrasing is broad. It could be strengthened to focus on explaining *how* logical reasoning is applied. SUGGESTION: \\'Explain how logical reasoning can be applied to solve specific problems in software engineering.\\'\\n\\n**SUMMARY**\\n\\nThe unit has 4 Learning Outcomes, which is within the acceptable range of 3-6 for a 6-point unit. However, two of the outcomes require revision as they are either at the wrong Bloom\\'s level or could be more clearly focused on Comprehension.\\n'},\n",
       " {'unitcode': 'PHIL1001',\n",
       "  'response': \"**LO Analysis**\\n\\n'evaluate arguments in philosophical texts' - STATUS:NEEDS_REVISION - This outcome is at the Evaluation level (Bloom's Taxonomy), which is too high for a Level 1 unit focused on Knowledge. SUGGESTION: 'Identify key arguments presented in philosophical texts.'\\n\\n'independently construct arguments for philosophical positions' - STATUS:NEEDS_REVISION - This outcome is at the Synthesis level, far exceeding the scope of a Level 1 unit. SUGGESTION: 'List the core components of a philosophical argument.'\\n\\n'apply the methodologies of contemporary philosophy' - STATUS:NEEDS_REVISION - This outcome is at the Application level, which is too high for a Level 1 unit. SUGGESTION: 'Define the methodologies used in contemporary philosophy.'\\n\\n'evaluate assumptions underpinning ethical theories' - STATUS:NEEDS_REVISION - This outcome is at the Evaluation level, inappropriate for a Level 1 unit. SUGGESTION: 'State the basic assumptions of common ethical theories.'\\n\\n'demonstrate sound research skills and written and oral communication skills' - STATUS:NEEDS_REVISION - This outcome focuses on skills demonstration, not knowledge acquisition, and is at the Application level. SUGGESTION: 'Recall the steps involved in conducting basic philosophical research.'\\n\\n'demonstrate an understanding of important historical and contemporary philosophical ideas in moral philosophy' - STATUS:COULD_IMPROVE - While 'demonstrate understanding' is weak phrasing, the core focus on recalling ideas is appropriate for Level 1. SUGGESTION: 'List important historical and contemporary philosophical ideas in moral philosophy.'\\n\\n'articulate a number of contemporary ethical problems arising out of the development of digital technologies' - STATUS:NEEDS_REVISION - 'Articulate' implies a higher-order thinking skill than is appropriate for Level 1. SUGGESTION: 'Name contemporary ethical problems related to digital technologies.'\\n\\n'demonstrate their understanding of, and evaluate, several influential ethical theories' - STATUS:NEEDS_REVISION - This outcome combines comprehension/application with evaluation, making it unsuitable for Level 1. SUGGESTION: 'Define several influential ethical theories.'\\n\\n'apply the ethical theories studied to the problems arising out of the development of digital technologies' - STATUS:NEEDS_REVISION - This is an Application level outcome, too advanced for a Level 1 unit. SUGGESTION: 'Identify which ethical theories are relevant to problems in digital technologies.'\\n\\n'apply ethical theories to, and reason effectively about, new ethical questions' - STATUS:NEEDS_REVISION - This outcome requires both application and analysis, exceeding the scope of Level 1. SUGGESTION: 'Recall the core principles of ethical theories.'\\n\\n**SUMMARY**\\n\\nThe provided Learning Outcomes are largely inappropriate for a Level 1 unit, as they consistently aim for higher-order thinking skills (Application, Analysis, Evaluation, Synthesis) rather than focusing on knowledge recall. Furthermore, the quantity of 10 Learning Outcomes is excessive for a 6-point unit, which should ideally have between 3 and 6.\\n\"},\n",
       " {'unitcode': 'ELEC5505',\n",
       "  'response': \"**LO Analysis**\\n\\n'demonstrate professional engineering skills and abilities when working in teams' - STATUS:GOOD - This outcome is appropriately positioned at Level 5 (Synthesis) as it requires students to actively *demonstrate* skills, going beyond simply knowing or applying them; it involves combining skills in a practical context.\\n\\n'demonstrate the ability to model power systems components (transmission lines, transformers, generators and loads)' - STATUS:COULD_IMPROVE - While 'demonstrate' is a good verb, the outcome focuses heavily on application rather than synthesis. SUGGESTION: 'Develop and validate models of power systems components (transmission lines, transformers, generators and loads) for use in system analysis.'\\n\\n'analyse the power flow of a simple interconnected power system with multiple sources and loads using Gauss-Siedal, Newton Raphson, and decoupled power flow methods' - STATUS:NEEDS_REVISION - This outcome is at the Analysis level, not Synthesis. SUGGESTION: 'Design a power flow analysis strategy for a simple interconnected power system, justifying the selection of Gauss-Siedal, Newton Raphson, or decoupled power flow methods based on system characteristics.'\\n\\n'analyse the impact of short-circuit faults on the power network and make design changes to the network to control the fault currents' - STATUS:NEEDS_REVISION - This outcome is primarily analytical. SUGGESTION: 'Propose and justify modifications to a power network design to mitigate the impact of short-circuit faults, considering various fault current control strategies.'\\n\\n'analyse various protection schemes for power transmission and distribution systems' - STATUS:NEEDS_REVISION - This outcome is at the Analysis level. SUGGESTION: 'Develop a comprehensive protection scheme for a power transmission and distribution system, integrating multiple protection techniques to address various fault scenarios.'\\n\\n'analyse the techniques for control of voltage and frequency of interconnected power systems' - STATUS:NEEDS_REVISION - This outcome is at the Analysis level. SUGGESTION: 'Formulate a control strategy for maintaining voltage and frequency stability in an interconnected power system, combining different control techniques and assessing their effectiveness.'\\n\\n'Identify potential hazards and describe safety measures' - STATUS:NEEDS_REVISION - This outcome is at the Knowledge/Comprehension level. SUGGESTION: 'Develop a comprehensive safety plan for a power systems laboratory or field work, integrating hazard identification, risk assessment, and appropriate mitigation measures.'\\n\\n**SUMMARY**\\n\\nThe current set of Learning Outcomes is not fully aligned with the expected Bloom's level of Synthesis for a Level 5 unit. While some outcomes are appropriate, many are focused on Analysis and require revision to emphasize the creation, design, or development of solutions. The quantity of 7 Learning Outcomes is appropriate for a 6-point unit.\\n\"},\n",
       " {'unitcode': 'PHYS2003',\n",
       "  'response': \"**LO Analysis**\\n\\n'analyse the concepts and physical principles related to magnetism, the foundations of quantum mechanics and electronic properties of materials;' - STATUS:NEEDS_REVISION - This learning outcome is at the Analysis level (Bloom's Taxonomy), which is too high for a Level 2 (Comprehension) unit. SUGGESTION: 'Describe the concepts and physical principles related to magnetism, the foundations of quantum mechanics and electronic properties of materials.'\\n\\n'communicate ideas, both orally and written, relating to related to magnetism, the foundations of quantum mechanics and electronic devices;' - STATUS:COULD_IMPROVE - While communication *can* fall into comprehension, this is a very broad outcome. SUGGESTION: 'Explain, in both oral and written form, the key concepts related to magnetism, the foundations of quantum mechanics and electronic devices.'\\n\\n'solve problems in a range of realistic situations relating to magnetism, the foundations of quantum mechanics and electronic properties of materials' - STATUS:NEEDS_REVISION - Solving problems is an Application level skill, too high for a Level 2 unit. SUGGESTION: 'Illustrate how the principles of magnetism, quantum mechanics and electronic properties of materials apply to simple scenarios.'\\n\\n'execute experiments relevant to magnetism and electronic devices; and' - STATUS:COULD_IMPROVE - Executing experiments leans towards Application, but could be acceptable if framed as following instructions. SUGGESTION: 'Follow established procedures to conduct experiments relevant to magnetism and electronic devices.'\\n\\n'evaluate the results of an experiment to magnetism and electronic devices.' - STATUS:NEEDS_REVISION - Evaluation is a high-level skill and inappropriate for a Level 2 unit. SUGGESTION: 'Summarise the results of an experiment relating to magnetism and electronic devices.'\\n\\n**SUMMARY**\\n\\nThe unit has 5 Learning Outcomes, which is within the acceptable range for a 6-point unit. However, the majority of the Learning Outcomes are not aligned with the expected Comprehension level (Level 2) of Bloom's Taxonomy and require revision to focus on describing, explaining, or illustrating concepts rather than analysing, solving, or evaluating.\\n\"},\n",
       " {'unitcode': 'DENT3005',\n",
       "  'response': \"**LO Analysis**\\n\\n'explain the clinical signs, symptoms and pathogenesis of systemic conditions relevant to dental practice' - STATUS:COULD_IMPROVE - This outcome leans towards comprehension rather than application. SUGGESTION: 'Apply knowledge of clinical signs, symptoms and pathogenesis of systemic conditions to develop appropriate dental treatment plans.'\\n\\n'discuss the pathogenicity and virulence of micro-organisms, the sources of infection and routes of transmission, and the role of vaccines in infectious (communicable) diseases' - STATUS:NEEDS_REVISION - This outcome is firmly in the comprehension domain. SUGGESTION: 'Utilise understanding of microbial pathogenicity and transmission to implement infection control protocols in a dental setting.'\\n\\n'apply the principles of infection prevention and control in dental practice, including when treating patients with communicable diseases' - STATUS:GOOD - This outcome clearly demonstrates application, requiring students to use learned principles in a practical context.\\n\\n'explain the measures required to manage systemic medical conditions during dental treatment' - STATUS:COULD_IMPROVE - This outcome is primarily explanatory, focusing on knowledge recall. SUGGESTION: 'Implement appropriate modifications to dental treatment plans based on patient’s systemic medical conditions.'\\n\\n'classify the most common medical emergencies in dental practice and their management' - STATUS:NEEDS_REVISION - Classification falls into the analysis domain, not application. SUGGESTION: 'Demonstrate the correct procedures for managing common medical emergencies encountered in a dental practice.'\\n\\n'explain the principles of drug delivery, drug metabolism and associated pharmacological aspects as they relate to dental practice' - STATUS:COULD_IMPROVE - This outcome focuses on explaining principles, which is comprehension. SUGGESTION: 'Select appropriate medications and dosages for dental procedures, considering drug delivery and metabolism.'\\n\\n'explain how various drugs can affect dental practice and how these situations can be managed' - STATUS:COULD_IMPROVE - Again, this is an explanation-based outcome. SUGGESTION: 'Modify dental treatment plans to account for potential drug interactions and patient medication profiles.'\\n\\n'outline the common medications used in dental practice including their indications, contra-indications and management of adverse reactions' - STATUS:NEEDS_REVISION - Outlining is a knowledge-level activity. SUGGESTION: 'Utilise knowledge of common dental medications to safely and effectively manage patient prescriptions and potential adverse reactions.'\\n\\n'outline the regulatory requirements and demonstrate how to write a prescription' - STATUS:COULD_IMPROVE - While demonstrating prescription writing is application, 'outline the regulatory requirements' is knowledge-based. SUGGESTION: 'Apply regulatory guidelines to accurately and legally complete dental prescriptions.'\\n\\n'display professional behaviour in the educational and clinical setting' - STATUS:NEEDS_REVISION - This outcome is not measurable or aligned with Bloom’s Taxonomy. SUGGESTION: 'Demonstrate effective communication and ethical conduct when interacting with patients and colleagues in a dental setting.'\\n\\n**SUMMARY**\\n\\nThe unit has 10 Learning Outcomes, which is slightly above the recommended range of 3-6 for a 6-point unit. Several outcomes require revision as they are currently focused on comprehension or knowledge rather than application, and one is not measurable. Strengthening these outcomes to focus on the practical application of knowledge will better align the unit with its intended level.\\n\"},\n",
       " {'unitcode': 'ELEC3016',\n",
       "  'response': \"**LO Analysis**\\n\\n'demonstrate an ability to work effectively in laboratory teams' - STATUS:GOOD - This outcome focuses on the practical application of teamwork skills within a laboratory setting, aligning well with the Application level.\\n\\n'analyse two basic principles (generation of EMF and torque) that govern electromagnetic energy conversion and differentiate between motor and generator operation' - STATUS:NEEDS_REVISION - This outcome is at the Analysis level, which is too high for a Level 3 unit. SUGGESTION: 'Apply the principles of EMF generation and torque to explain the operation of motors and generators.'\\n\\n'analyse the performance (regulation, losses and efficiency) of DC machines, transformers, induction and synchronous machines based on the equivalent circuits' - STATUS:NEEDS_REVISION - This outcome is also at the Analysis level, exceeding the scope of Level 3. SUGGESTION: 'Calculate the performance characteristics (regulation, losses, and efficiency) of DC machines, transformers, induction, and synchronous machines using equivalent circuit parameters.'\\n\\n'explain the working principle of transformers and AC electrical machines by using phasor diagrams' - STATUS:COULD_IMPROVE - While 'explain' leans towards Comprehension, the use of phasor diagrams suggests a level of application. SUGGESTION: 'Use phasor diagrams to illustrate the working principles of transformers and AC electrical machines.'\\n\\n'analyse torque-speed characteristics to develop speed control techniques for DC and induction motors' - STATUS:NEEDS_REVISION - The 'analyse' and 'develop' components place this outcome at both Analysis and Synthesis levels, too advanced for Level 3. SUGGESTION: 'Apply torque-speed characteristics to select appropriate speed control techniques for DC and induction motors.'\\n\\n'develop transmission line parameters and power system representation' - STATUS:NEEDS_REVISION - 'Develop' is a Synthesis verb, making this outcome inappropriate for Level 3. SUGGESTION: 'Calculate transmission line parameters and represent power systems using appropriate models.'\\n\\n'demonstrate compliance with work, health and safety regulations, codes and standards when operating electrical machines' - STATUS:GOOD - This outcome focuses on the practical demonstration of safety procedures, fitting the Application level effectively.\\n\\n**SUMMARY**\\n\\nThe unit has 7 Learning Outcomes, which is within the acceptable range of 3-6 for a 6-point unit. However, several outcomes are incorrectly positioned at the Analysis or Synthesis levels and require revision to align with the expected Application level of a Level 3 unit.\\n\"}]"
      ]
     },
     "execution_count": 21,
     "metadata": {},
     "output_type": "execute_result"
    }
   ],
   "source": [
    "responses"
   ]
  },
  {
   "cell_type": "code",
   "execution_count": 31,
   "id": "c8ecd638",
   "metadata": {},
   "outputs": [
    {
     "data": {
      "text/plain": [
       "{'unitcode': 'ACCT2242',\n",
       " 'lo_analysis': \"'identify and explain the roles and components of AIS' - STATUS:GOOD - This learning outcome appropriately targets the Comprehension level by requiring students to both identify (knowledge) and explain (comprehension) key concepts.\\n\\n'describe the role of an internal control system in maintaining data integrity and recommend internal control improvements to protect key business processes' - STATUS:COULD_IMPROVE - While ‘describe’ is appropriate for Level 2, the inclusion of ‘recommend’ pushes towards Application. SUGGESTION: ‘describe the role of an internal control system in maintaining data integrity and explain how improvements could protect key business processes.’\\n\\n'critically evaluate business processes and system documentation' - STATUS:NEEDS_REVISION - ‘Critically evaluate’ is a Level 6 (Evaluation) verb and is too high for a Level 2 unit. SUGGESTION: ‘compare and contrast different business processes and system documentation.’\\n\\n'demonstrate basic data analytics and visualisation techniques that enhances the efficiency and effectiveness of communication' - STATUS:NEEDS_REVISION - ‘Demonstrate’ is an Application level verb and is too high for a Level 2 unit. SUGGESTION: ‘explain basic data analytics and visualisation techniques and their impact on communication.’\\n\\n'explain the impact of ICT on current and emerging accounting practices' - STATUS:GOOD - This learning outcome is well-suited to the Comprehension level, asking students to explain the impact of a concept.\\n\\n'develop competencies to work effectively in teams to resolve ICT issues.' - STATUS:NEEDS_REVISION - ‘Develop’ is a Synthesis level verb and is too high for a Level 2 unit. SUGGESTION: ‘describe the key skills needed to work effectively in teams to resolve ICT issues.’\"}"
      ]
     },
     "execution_count": 31,
     "metadata": {},
     "output_type": "execute_result"
    }
   ],
   "source": [
    "lo_sections = []\n",
    "\n",
    "for entry in responses:\n",
    "    response_text = entry['response']\n",
    "    \n",
    "    # Extract everything between **LO Analysis** and **SUMMARY**\n",
    "    match = re.search(r\"\\*\\*LO Analysis\\*\\*(.*?)(?:\\n\\n\\*\\*SUMMARY\\*\\*|$)\", response_text, re.DOTALL)\n",
    "    lo_section = match.group(1).strip() if match else \"\"\n",
    "    \n",
    "    lo_sections.append({\n",
    "        \"unitcode\": entry['unitcode'],\n",
    "        \"lo_analysis\": lo_section\n",
    "    })\n",
    "\n",
    "# Example: print first unit's LO Analysis\n",
    "lo_sections[2]"
   ]
  },
  {
   "cell_type": "code",
   "execution_count": 32,
   "id": "d33c0417",
   "metadata": {},
   "outputs": [
    {
     "name": "stdout",
     "output_type": "stream",
     "text": [
      "['NEEDS_REVISION', 'NEEDS_REVISION', 'NEEDS_REVISION', 'COULD_IMPROVE', 'NEEDS_REVISION', 'GOOD', 'NEEDS_REVISION', 'GOOD', 'NEEDS_REVISION', 'NEEDS_REVISION', 'COULD_IMPROVE', 'GOOD', 'COULD_IMPROVE', 'NEEDS_REVISION', 'NEEDS_REVISION', 'GOOD', 'NEEDS_REVISION', 'GOOD', 'NEEDS_REVISION', 'NEEDS_REVISION', 'COULD_IMPROVE', 'GOOD', 'NEEDS_REVISION', 'GOOD', 'NEEDS_REVISION', 'COULD_IMPROVE', 'NEEDS_REVISION', 'NEEDS_REVISION', 'NEEDS_REVISION', 'NEEDS_REVISION', 'NEEDS_REVISION', 'COULD_IMPROVE', 'NEEDS_REVISION', 'NEEDS_REVISION', 'NEEDS_REVISION', 'NEEDS_REVISION', 'GOOD', 'COULD_IMPROVE', 'NEEDS_REVISION', 'NEEDS_REVISION', 'NEEDS_REVISION', 'NEEDS_REVISION', 'NEEDS_REVISION', 'NEEDS_REVISION', 'COULD_IMPROVE', 'NEEDS_REVISION', 'NEEDS_REVISION', 'NEEDS_REVISION', 'COULD_IMPROVE', 'NEEDS_REVISION', 'GOOD', 'COULD_IMPROVE', 'NEEDS_REVISION', 'COULD_IMPROVE', 'COULD_IMPROVE', 'NEEDS_REVISION', 'COULD_IMPROVE', 'NEEDS_REVISION', 'GOOD', 'NEEDS_REVISION', 'NEEDS_REVISION', 'COULD_IMPROVE', 'NEEDS_REVISION', 'NEEDS_REVISION', 'GOOD']\n",
      "65\n"
     ]
    }
   ],
   "source": [
    "lo_statuses = []\n",
    "\n",
    "for entry in lo_sections:\n",
    "    lo_analysis = entry['lo_analysis']\n",
    "    \n",
    "    # Regex to extract each LO and its STATUS\n",
    "    # Captures: 'learning outcome text' - STATUS:STATUS_VALUE\n",
    "    status_pattern = r\"'(.*?)'\\s*-\\s*STATUS:\\s*(\\w+)\"\n",
    "    matches = re.findall(status_pattern, lo_analysis, re.DOTALL | re.IGNORECASE)\n",
    "    \n",
    "    # Store results as a list of dicts per unit\n",
    "    for m in matches:\n",
    "        lo_statuses.append(m[1])\n",
    "\n",
    "# Example: print statuses for first unit\n",
    "print(lo_statuses)\n",
    "print(len(lo_statuses))"
   ]
  },
  {
   "cell_type": "code",
   "execution_count": 33,
   "id": "91fff7d0",
   "metadata": {},
   "outputs": [
    {
     "data": {
      "text/plain": [
       "[[\"'describe the core debates over the meaning of the term 'globalisation'' - STATUS:NEEDS_REVISION - This outcome is at the Comprehension level (Bloom's Taxonomy) rather than Application. SUGGESTION: 'Apply knowledge of core debates surrounding globalisation to analyse contemporary case studies.'\",\n",
       "  \"'explain the relationship between globalisation and labour market and workplace restructuring' - STATUS:NEEDS_REVISION - This outcome is at the Comprehension level (Bloom's Taxonomy) rather than Application. SUGGESTION: 'Demonstrate how globalisation impacts labour market and workplace restructuring through the analysis of specific industry examples.'\",\n",
       "  \"'identify organisations and institutions central to globalisation and their impact on work' - STATUS:NEEDS_REVISION - This outcome is at the Knowledge level (Bloom's Taxonomy) rather than Application. SUGGESTION: 'Utilise knowledge of key organisations and institutions involved in globalisation to assess their impact on specific work practices.'\",\n",
       "  \"'gain a critical appreciation of how globalisation reshapes the experience of work and worker identity' - STATUS:COULD_IMPROVE - While aiming for criticality, the verb 'gain' is weak and doesn't clearly indicate an action. SUGGESTION: 'Compare and contrast the impact of globalisation on worker identity in different national contexts.'\",\n",
       "  \"'develop a critical understanding of individual and collective responses to the impact of globalisation on work' - STATUS:NEEDS_REVISION - This outcome uses the problematic phrase 'develop a critical understanding' and is at the Comprehension level. SUGGESTION: 'Construct arguments evaluating the effectiveness of individual and collective responses to the challenges posed by globalisation in the workplace.'\",\n",
       "  \"'demonstrate enhanced written, oral and information literacy skills through participation in class discussions, and through the preparation of an individual essay and written responses in the final examination' - STATUS:GOOD - This outcome clearly indicates a demonstrable skill application through various assessment methods.\"],\n",
       " [\"'explain the nature of some important psychological processes, how they are measured, and their relation to brain function' - STATUS:NEEDS_REVISION - This outcome is at the Comprehension level (explaining) and is too high for a Level 1 (Knowledge) unit. SUGGESTION: 'Define key psychological processes and identify their relationship to brain function.'\",\n",
       "  \"'identify the basic principles of psychological measurement and experimental design' - STATUS:GOOD - This outcome uses the appropriate verb 'identify' and aligns with the Knowledge level, focusing on recall and recognition of principles.\",\n",
       "  \"'describe data relevant to psychological questions and draw appropriate inferences from such data' - STATUS:NEEDS_REVISION - The verb 'describe' is Comprehension, and 'draw inferences' is Analysis, both too high for Level 1. SUGGESTION: 'List types of data used in psychological research and state their basic characteristics.'\",\n",
       "  \"'write research reports relevant to psychological issues in the format appropriate for psychological science (American Psychological Association style)' - STATUS:NEEDS_REVISION - 'Write' is Application, far exceeding the scope of a Level 1 unit. SUGGESTION: 'List the key components of a research report in APA style.'\",\n",
       "  \"'discuss and use the language of psychology appropriately' - STATUS:COULD_IMPROVE - 'Discuss' leans towards Comprehension. While 'use' is acceptable, the outcome could be more focused on basic recall. SUGGESTION: 'Define key terms used in psychological science.'\"],\n",
       " [\"'identify and explain the roles and components of AIS' - STATUS:GOOD - This learning outcome appropriately targets the Comprehension level by requiring students to both identify (knowledge) and explain (comprehension) key concepts.\",\n",
       "  \"'describe the role of an internal control system in maintaining data integrity and recommend internal control improvements to protect key business processes' - STATUS:COULD_IMPROVE - While ‘describe’ is appropriate for Level 2, the inclusion of ‘recommend’ pushes towards Application. SUGGESTION: ‘describe the role of an internal control system in maintaining data integrity and explain how improvements could protect key business processes.’\",\n",
       "  \"'critically evaluate business processes and system documentation' - STATUS:NEEDS_REVISION - ‘Critically evaluate’ is a Level 6 (Evaluation) verb and is too high for a Level 2 unit. SUGGESTION: ‘compare and contrast different business processes and system documentation.’\",\n",
       "  \"'demonstrate basic data analytics and visualisation techniques that enhances the efficiency and effectiveness of communication' - STATUS:NEEDS_REVISION - ‘Demonstrate’ is an Application level verb and is too high for a Level 2 unit. SUGGESTION: ‘explain basic data analytics and visualisation techniques and their impact on communication.’\",\n",
       "  \"'explain the impact of ICT on current and emerging accounting practices' - STATUS:GOOD - This learning outcome is well-suited to the Comprehension level, asking students to explain the impact of a concept.\",\n",
       "  \"'develop competencies to work effectively in teams to resolve ICT issues.' - STATUS:NEEDS_REVISION - ‘Develop’ is a Synthesis level verb and is too high for a Level 2 unit. SUGGESTION: ‘describe the key skills needed to work effectively in teams to resolve ICT issues.’\"],\n",
       " [\"'explain the origins of the SDGs and their role in achieving global UN goals;' - STATUS:GOOD - This outcome appropriately uses the 'explain' verb from the Comprehension level (Level 2) and focuses on understanding foundational concepts, fitting well within the early stages of a university unit.\",\n",
       "  \"'synthesize knowledge of the 17 SDGs and describe their relationship with international law and policy;' - STATUS:NEEDS_REVISION - While 'describe' is acceptable for Comprehension (Level 2), 'synthesize' is a Synthesis level verb (Level 5) and is too high for this unit's expected progression. SUGGESTION: 'Compare and contrast the 17 SDGs, describing their relationship with international law and policy.'\",\n",
       "  \"'assess the significance and effectiveness of the SDGs at the global and national level;' - STATUS:NEEDS_REVISION - 'Assess' is an Evaluation level verb (Level 6) and is too advanced for a Level 3 unit. SUGGESTION: 'Apply understanding of the SDGs to evaluate their potential significance and effectiveness at the global and national level.'\",\n",
       "  '\\'demonstrate advanced oral and written communication skills ;\\' - STATUS:COULD_IMPROVE - While \\'demonstrate\\' can work for Application (Level 3), the phrase \"advanced skills\" is vague and doesn\\'t specify *how* these skills will be demonstrated. SUGGESTION: \\'Demonstrate effective oral and written communication skills through the preparation of legal reports and presentations.\\'',\n",
       "  \"'develop and apply skills in independent scholarly research' - STATUS:GOOD - This outcome uses both 'develop' and 'apply' which are appropriate verbs for the Application level (Level 3), focusing on practical skill application.\"],\n",
       " ['\\'demonstrate critical thinking and information literacy\\' - STATUS:NEEDS_REVISION - This outcome is too vague and moves into the Analysis level with \"critical thinking\". SUGGESTION: \\'Explain the core principles of information literacy and demonstrate their application in evaluating sources.\\'',\n",
       "  \"'demonstrate a familiarity with basic set theory, relations, functions, predicate logic, correctness proofs, finite state automata and automata theory as tools used in computer science and software engineering' - STATUS:GOOD - This outcome appropriately focuses on recalling and recognising key concepts within the specified domain, fitting the Comprehension level.\",\n",
       "  '\\'identify, abstract and analyse problems in computer science and software engineering using the mathematical models\\' - STATUS:NEEDS_REVISION - The verb \"analyse\" pushes this outcome into the Analysis level, which is too high for a Level 2 unit. SUGGESTION: \\'Describe how mathematical models can be used to represent problems in computer science and software engineering.\\'',\n",
       "  \"'apply logical reasoning to problems in software engineering' - STATUS:COULD_IMPROVE - While 'apply' is generally an Application level verb, the phrasing is broad. It could be strengthened to focus on explaining *how* logical reasoning is applied. SUGGESTION: 'Explain how logical reasoning can be applied to solve specific problems in software engineering.'\"],\n",
       " [\"'evaluate arguments in philosophical texts' - STATUS:NEEDS_REVISION - This outcome is at the Evaluation level (Bloom's Taxonomy), which is too high for a Level 1 unit focused on Knowledge. SUGGESTION: 'Identify key arguments presented in philosophical texts.'\",\n",
       "  \"'independently construct arguments for philosophical positions' - STATUS:NEEDS_REVISION - This outcome is at the Synthesis level, far exceeding the scope of a Level 1 unit. SUGGESTION: 'List the core components of a philosophical argument.'\",\n",
       "  \"'apply the methodologies of contemporary philosophy' - STATUS:NEEDS_REVISION - This outcome is at the Application level, which is too high for a Level 1 unit. SUGGESTION: 'Define the methodologies used in contemporary philosophy.'\",\n",
       "  \"'evaluate assumptions underpinning ethical theories' - STATUS:NEEDS_REVISION - This outcome is at the Evaluation level, inappropriate for a Level 1 unit. SUGGESTION: 'State the basic assumptions of common ethical theories.'\",\n",
       "  \"'demonstrate sound research skills and written and oral communication skills' - STATUS:NEEDS_REVISION - This outcome focuses on skills demonstration, not knowledge acquisition, and is at the Application level. SUGGESTION: 'Recall the steps involved in conducting basic philosophical research.'\",\n",
       "  \"'demonstrate an understanding of important historical and contemporary philosophical ideas in moral philosophy' - STATUS:COULD_IMPROVE - While 'demonstrate understanding' is weak phrasing, the core focus on recalling ideas is acceptable for Level 1. SUGGESTION: 'List important historical and contemporary philosophical ideas in moral philosophy.'\",\n",
       "  \"'articulate a number of contemporary ethical problems arising out of the development of digital technologies' - STATUS:NEEDS_REVISION - 'Articulate' implies a higher-order thinking skill than is appropriate for Level 1. SUGGESTION: 'Name contemporary ethical problems related to digital technologies.'\",\n",
       "  \"'demonstrate their understanding of, and evaluate, several influential ethical theories' - STATUS:NEEDS_REVISION - This outcome combines comprehension/application with evaluation, making it unsuitable for Level 1. SUGGESTION: 'Identify several influential ethical theories.'\",\n",
       "  \"'apply the ethical theories studied to the problems arising out of the development of digital technologies' - STATUS:NEEDS_REVISION - This is an Application level outcome, too advanced for a Level 1 unit. SUGGESTION: 'Describe how ethical theories can be used to address problems in digital technologies.'\",\n",
       "  \"'apply ethical theories to, and reason effectively about, new ethical questions' - STATUS:NEEDS_REVISION - This outcome requires both application and analysis, exceeding the scope of Level 1. SUGGESTION: 'Define key terms related to ethical reasoning.'\"],\n",
       " [\"'demonstrate professional engineering skills and abilities when working in teams' - STATUS:GOOD - This outcome is appropriately positioned at Level 5 (Synthesis) as it requires students to actively *demonstrate* skills, going beyond simply knowing or applying them.\",\n",
       "  \"'demonstrate the ability to model power systems components (transmission lines, transformers, generators and loads)' - STATUS:COULD_IMPROVE - While 'demonstrate' is a good verb, the outcome focuses heavily on application rather than synthesis. SUGGESTION: 'Develop and validate models of power systems components (transmission lines, transformers, generators and loads) for use in system analysis.'\",\n",
       "  \"'analyse the power flow of a simple interconnected power system with multiple sources and loads using Gauss-Siedal, Newton Raphson, and decoupled power flow methods' - STATUS:NEEDS_REVISION - This outcome is at the Analysis level, not Synthesis. SUGGESTION: 'Design a power flow analysis strategy for a simple interconnected power system, justifying the selection of Gauss-Siedal, Newton Raphson, or decoupled power flow methods based on system characteristics.'\",\n",
       "  \"'analyse the impact of short-circuit faults on the power network and make design changes to the network to control the fault currents' - STATUS:NEEDS_REVISION - This outcome is primarily analytical. SUGGESTION: 'Propose and justify modifications to a power network design to mitigate the impact of short-circuit faults, considering various fault current control strategies.'\",\n",
       "  \"'analyse various protection schemes for power transmission and distribution systems' - STATUS:NEEDS_REVISION - This outcome is at the Analysis level. SUGGESTION: 'Develop a comprehensive protection scheme for a power transmission and distribution system, integrating multiple protection techniques and justifying their selection.'\",\n",
       "  \"'analyse the techniques for control of voltage and frequency of interconnected power systems' - STATUS:NEEDS_REVISION - This outcome is at the Analysis level. SUGGESTION: 'Formulate a control strategy for maintaining voltage and frequency stability in an interconnected power system, considering dynamic system responses.'\",\n",
       "  \"'Identify potential hazards and describe safety measures' - STATUS:NEEDS_REVISION - This outcome is at the Knowledge/Comprehension level. SUGGESTION: 'Develop a comprehensive safety plan for working with power systems equipment, integrating hazard identification, risk assessment, and mitigation strategies.'\"],\n",
       " [\"'analyse the concepts and physical principles related to magnetism, the foundations of quantum mechanics and electronic properties of materials;' - STATUS:NEEDS_REVISION - This outcome is at the Analysis level (Bloom's Taxonomy), which is too high for a Level 2 (Comprehension) unit. SUGGESTION: 'Describe the concepts and physical principles related to magnetism, the foundations of quantum mechanics and electronic properties of materials.'\",\n",
       "  \"'communicate ideas, both orally and written, relating to related to magnetism, the foundations of quantum mechanics and electronic devices;' - STATUS:COULD_IMPROVE - While communication *can* fall into comprehension, this is a very broad outcome. SUGGESTION: 'Explain, in both oral and written form, the key concepts related to magnetism, the foundations of quantum mechanics and electronic devices.'\",\n",
       "  \"'solve problems in a range of realistic situations relating to magnetism, the foundations of quantum mechanics and electronic properties of materials' - STATUS:NEEDS_REVISION - Solving problems is an Application level skill (Bloom's Taxonomy), which is too high for a Level 2 unit. SUGGESTION: 'Illustrate how the principles of magnetism, quantum mechanics and electronic properties of materials apply to simple scenarios.'\",\n",
       "  \"'execute experiments relevant to magnetism and electronic devices; and' - STATUS:NEEDS_REVISION - Executing experiments is an Application level skill, and therefore too high for a Level 2 unit. SUGGESTION: 'Describe the procedures for experiments relevant to magnetism and electronic devices.'\",\n",
       "  \"'evaluate the results of an experiment to magnetism and electronic devices.' - STATUS:NEEDS_REVISION - Evaluation is a high-order thinking skill and is inappropriate for a Level 2 unit. SUGGESTION: 'Summarise the results of an experiment relating to magnetism and electronic devices.'\"],\n",
       " [\"'explain the clinical signs, symptoms and pathogenesis of systemic conditions relevant to dental practice' - STATUS:COULD_IMPROVE - This outcome leans towards comprehension rather than application. SUGGESTION: 'Apply knowledge of clinical signs, symptoms and pathogenesis of systemic conditions to develop appropriate dental treatment plans.'\",\n",
       "  \"'discuss the pathogenicity and virulence of micro-organisms, the sources of infection and routes of transmission, and the role of vaccines in infectious (communicable) diseases' - STATUS:NEEDS_REVISION - This outcome is firmly in the comprehension domain. SUGGESTION: 'Utilise understanding of microbial pathogenicity and transmission to implement infection control protocols in a dental setting.'\",\n",
       "  \"'apply the principles of infection prevention and control in dental practice, including when treating patients with communicable diseases' - STATUS:GOOD - This outcome clearly demonstrates application, requiring students to use learned principles in a practical context.\",\n",
       "  \"'explain the measures required to manage systemic medical conditions during dental treatment' - STATUS:COULD_IMPROVE - This outcome is primarily explanatory, focusing on knowledge recall. SUGGESTION: 'Implement appropriate modifications to dental treatment plans based on patient’s systemic medical conditions.'\",\n",
       "  \"'classify the most common medical emergencies in dental practice and their management' - STATUS:NEEDS_REVISION - Classification falls into the analysis domain, not application. SUGGESTION: 'Demonstrate the correct procedures for managing common medical emergencies encountered in a dental practice.'\",\n",
       "  \"'explain the principles of drug delivery, drug metabolism and associated pharmacological aspects as they relate to dental practice' - STATUS:COULD_IMPROVE - This outcome focuses on explaining principles, which is comprehension. SUGGESTION: 'Select appropriate medications and dosages for dental procedures, considering drug delivery and metabolism.'\",\n",
       "  \"'explain how various drugs can affect dental practice and how these situations can be managed' - STATUS:COULD_IMPROVE - Again, this is largely explanatory. SUGGESTION: 'Modify dental treatment plans to account for potential drug interactions and patient medication profiles.'\",\n",
       "  \"'outline the common medications used in dental practice including their indications, contra-indications and management of adverse reactions' - STATUS:NEEDS_REVISION - Outlining is a knowledge-level activity. SUGGESTION: 'Utilise knowledge of common dental medications to safely and effectively manage patient prescriptions and potential adverse reactions.'\",\n",
       "  \"'outline the regulatory requirements and demonstrate how to write a prescription' - STATUS:COULD_IMPROVE - The 'outline' portion is knowledge-based, while 'demonstrate' is application, creating a mixed outcome. SUGGESTION: 'Complete and accurately write prescriptions adhering to all relevant regulatory requirements.'\",\n",
       "  \"'display professional behaviour in the educational and clinical setting' - STATUS:NEEDS_REVISION - This outcome is not measurable or aligned with Bloom’s Taxonomy. SUGGESTION: 'Demonstrate effective communication and ethical decision-making in simulated dental patient interactions.'\"],\n",
       " [\"'demonstrate an ability to work effectively in laboratory teams' - STATUS:GOOD - This outcome focuses on the practical application of teamwork skills within a laboratory setting, aligning well with the Application level.\",\n",
       "  \"'analyse two basic principles (generation of EMF and torque) that govern electromagnetic energy conversion and differentiate between motor and generator operation' - STATUS:NEEDS_REVISION - This outcome is at the Analysis level, which is too high for a Level 3 unit. SUGGESTION: 'Apply the principles of EMF generation and torque to explain the operation of motors and generators.'\",\n",
       "  \"'analyse the performance (regulation, losses and efficiency) of DC machines, transformers, induction and synchronous machines based on the equivalent circuits' - STATUS:NEEDS_REVISION - This outcome is also at the Analysis level, exceeding the scope of a Level 3 unit. SUGGESTION: 'Calculate the performance characteristics (regulation, losses, and efficiency) of DC machines, transformers, induction, and synchronous machines using equivalent circuit parameters.'\",\n",
       "  \"'explain the working principle of transformers and AC electrical machines by using phasor diagrams' - STATUS:COULD_IMPROVE - While 'explain' leans towards Comprehension, the use of phasor diagrams suggests a level of application. SUGGESTION: 'Use phasor diagrams to illustrate the working principles of transformers and AC electrical machines.'\",\n",
       "  \"'analyse torque-speed characteristics to develop speed control techniques for DC and induction motors' - STATUS:NEEDS_REVISION - The 'analyse' and 'develop' components place this outcome at both Analysis and Synthesis levels, which are too advanced for Level 3. SUGGESTION: 'Apply torque-speed characteristics to select appropriate speed control techniques for DC and induction motors.'\",\n",
       "  \"'develop transmission line parameters and power system representation' - STATUS:NEEDS_REVISION - 'Develop' is a Synthesis verb, making this outcome inappropriate for Level 3. SUGGESTION: 'Calculate transmission line parameters and represent power systems using appropriate models.'\",\n",
       "  \"'demonstrate compliance with work, health and safety regulations, codes and standards when operating electrical machines' - STATUS:GOOD - This outcome focuses on the practical demonstration of safety procedures, fitting the Application level well.\"]]"
      ]
     },
     "execution_count": 33,
     "metadata": {},
     "output_type": "execute_result"
    }
   ],
   "source": [
    "# This will store all learning outcomes per unit\n",
    "suggestions_lol = []\n",
    "\n",
    "\n",
    "for entry in responses:\n",
    "    response = entry['response']\n",
    "\n",
    "    match = re.search(r\"\\*\\*LO Analysis\\*\\*(.*?)(?:\\n\\n\\*\\*SUMMARY\\*\\*|$)\", response, re.DOTALL)\n",
    "    lo_section = match.group(1).strip() if match else \"\"\n",
    "    \n",
    "    # 2️⃣ Split into individual LO lines (lines starting with a quote)\n",
    "    lo_lines = [line.strip() for line in lo_section.split('\\n') if line.strip().startswith(\"'\")]\n",
    "    \n",
    "    # 3️⃣ Append the LO lines for this unit\n",
    "    suggestions_lol.append(lo_lines)\n",
    "\n",
    "suggestions_lol\n",
    "\n"
   ]
  },
  {
   "cell_type": "code",
   "execution_count": 35,
   "id": "56c8f0f8",
   "metadata": {},
   "outputs": [
    {
     "data": {
      "text/plain": [
       "[(\"describe the core debates over the meaning of the term 'globalisation'\",\n",
       "  'Apply knowledge of core debates surrounding globalisation to analyse contemporary case studies.'),\n",
       " ('explain the relationship between globalisation and labour market and workplace restructuring',\n",
       "  'Demonstrate how globalisation impacts labour market and workplace restructuring through the analysis of specific industry examples.'),\n",
       " ('identify organisations and institutions central to globalisation and their impact on work',\n",
       "  'Utilise knowledge of key organisations and institutions involved in globalisation to assess their impact on specific work practices.'),\n",
       " ('gain a critical appreciation of how globalisation reshapes the experience of work and worker identity',\n",
       "  'Compare and contrast the impact of globalisation on worker identity in different national contexts.'),\n",
       " ('develop a critical understanding of individual and collective responses to the impact of globalisation on work',\n",
       "  'Construct arguments evaluating the effectiveness of individual and collective responses to the challenges posed by globalisation in the workplace.')]"
      ]
     },
     "execution_count": 35,
     "metadata": {},
     "output_type": "execute_result"
    }
   ],
   "source": [
    "import re\n",
    "\n",
    "final_results = []\n",
    "\n",
    "for entry in responses:  # your original data with 'response'\n",
    "    response = entry['response']\n",
    "    \n",
    "    # Split response into LO lines (those starting with a quote)\n",
    "    lo_lines = [line.strip() for line in response.split('\\n') if line.strip().startswith(\"'\")]\n",
    "    \n",
    "    for line in lo_lines:\n",
    "        # Extract the original LO text (before - STATUS:)\n",
    "        outcome_match = re.search(r\"'(.*?)'\\s*-\\s*STATUS:\", line, re.DOTALL)\n",
    "        original_lo = outcome_match.group(1).strip() if outcome_match else line\n",
    "        \n",
    "        # Extract the suggestion if it exists\n",
    "        suggestion_match = re.search(r\"SUGGESTION:\\s*[‘'](.*?)[’']\", line, re.DOTALL)\n",
    "        suggestion = suggestion_match.group(1).strip() if suggestion_match else original_lo\n",
    "        \n",
    "        final_results.append((original_lo, suggestion))\n",
    "\n",
    "# Check first 5 results\n",
    "final_results[:5]\n"
   ]
  },
  {
   "cell_type": "markdown",
   "id": "ebaf207d",
   "metadata": {},
   "source": [
    "We can now see a list holding the original learning outcome and the revision, if any provided. If no revision made, the suggested rewrite entry is just the original learning outcome. We then add the list of flags and rewrites as two new columns in the dataframe and then export to an output file to preserve the results."
   ]
  },
  {
   "cell_type": "code",
   "execution_count": 36,
   "id": "23016e25",
   "metadata": {},
   "outputs": [
    {
     "data": {
      "text/html": [
       "<div>\n",
       "<style scoped>\n",
       "    .dataframe tbody tr th:only-of-type {\n",
       "        vertical-align: middle;\n",
       "    }\n",
       "\n",
       "    .dataframe tbody tr th {\n",
       "        vertical-align: top;\n",
       "    }\n",
       "\n",
       "    .dataframe thead th {\n",
       "        text-align: right;\n",
       "    }\n",
       "</style>\n",
       "<table border=\"1\" class=\"dataframe\">\n",
       "  <thead>\n",
       "    <tr style=\"text-align: right;\">\n",
       "      <th></th>\n",
       "      <th>unit id</th>\n",
       "      <th>unitcode</th>\n",
       "      <th>level</th>\n",
       "      <th>description</th>\n",
       "      <th>credit points</th>\n",
       "      <th>position</th>\n",
       "      <th>flag</th>\n",
       "      <th>AI_Flag</th>\n",
       "      <th>Suggested Rewrite</th>\n",
       "    </tr>\n",
       "  </thead>\n",
       "  <tbody>\n",
       "    <tr>\n",
       "      <th>0</th>\n",
       "      <td>4</td>\n",
       "      <td>EMPL3301</td>\n",
       "      <td>3</td>\n",
       "      <td>describe the core debates over the meaning of ...</td>\n",
       "      <td>6</td>\n",
       "      <td>1</td>\n",
       "      <td>GOOD</td>\n",
       "      <td>NEEDS_REVISION</td>\n",
       "      <td>Apply knowledge of core debates surrounding gl...</td>\n",
       "    </tr>\n",
       "    <tr>\n",
       "      <th>1</th>\n",
       "      <td>4</td>\n",
       "      <td>EMPL3301</td>\n",
       "      <td>3</td>\n",
       "      <td>explain the relationship between globalisation...</td>\n",
       "      <td>6</td>\n",
       "      <td>2</td>\n",
       "      <td>GOOD</td>\n",
       "      <td>NEEDS_REVISION</td>\n",
       "      <td>Demonstrate how globalisation impacts labour m...</td>\n",
       "    </tr>\n",
       "    <tr>\n",
       "      <th>2</th>\n",
       "      <td>4</td>\n",
       "      <td>EMPL3301</td>\n",
       "      <td>3</td>\n",
       "      <td>identify organisations and institutions centra...</td>\n",
       "      <td>6</td>\n",
       "      <td>3</td>\n",
       "      <td>NEEDS_REVISION</td>\n",
       "      <td>NEEDS_REVISION</td>\n",
       "      <td>Utilise knowledge of key organisations and ins...</td>\n",
       "    </tr>\n",
       "    <tr>\n",
       "      <th>3</th>\n",
       "      <td>4</td>\n",
       "      <td>EMPL3301</td>\n",
       "      <td>3</td>\n",
       "      <td>gain a critical appreciation of how globalisat...</td>\n",
       "      <td>6</td>\n",
       "      <td>4</td>\n",
       "      <td>NEEDS_REVISION</td>\n",
       "      <td>COULD_IMPROVE</td>\n",
       "      <td>Compare and contrast the impact of globalisati...</td>\n",
       "    </tr>\n",
       "    <tr>\n",
       "      <th>4</th>\n",
       "      <td>4</td>\n",
       "      <td>EMPL3301</td>\n",
       "      <td>3</td>\n",
       "      <td>develop a critical understanding of individual...</td>\n",
       "      <td>6</td>\n",
       "      <td>5</td>\n",
       "      <td>GOOD</td>\n",
       "      <td>NEEDS_REVISION</td>\n",
       "      <td>Construct arguments evaluating the effectivene...</td>\n",
       "    </tr>\n",
       "    <tr>\n",
       "      <th>5</th>\n",
       "      <td>4</td>\n",
       "      <td>EMPL3301</td>\n",
       "      <td>3</td>\n",
       "      <td>demonstrate enhanced written, oral and informa...</td>\n",
       "      <td>6</td>\n",
       "      <td>6</td>\n",
       "      <td>GOOD</td>\n",
       "      <td>GOOD</td>\n",
       "      <td>demonstrate enhanced written, oral and informa...</td>\n",
       "    </tr>\n",
       "    <tr>\n",
       "      <th>6</th>\n",
       "      <td>11</td>\n",
       "      <td>PSYC1101</td>\n",
       "      <td>1</td>\n",
       "      <td>explain the nature of some important psycholog...</td>\n",
       "      <td>6</td>\n",
       "      <td>1</td>\n",
       "      <td>GOOD</td>\n",
       "      <td>NEEDS_REVISION</td>\n",
       "      <td>Define key psychological processes and identif...</td>\n",
       "    </tr>\n",
       "    <tr>\n",
       "      <th>7</th>\n",
       "      <td>11</td>\n",
       "      <td>PSYC1101</td>\n",
       "      <td>1</td>\n",
       "      <td>identify the basic principles of psychological...</td>\n",
       "      <td>6</td>\n",
       "      <td>2</td>\n",
       "      <td>GOOD</td>\n",
       "      <td>GOOD</td>\n",
       "      <td>identify the basic principles of psychological...</td>\n",
       "    </tr>\n",
       "    <tr>\n",
       "      <th>8</th>\n",
       "      <td>11</td>\n",
       "      <td>PSYC1101</td>\n",
       "      <td>1</td>\n",
       "      <td>describe data relevant to psychological questi...</td>\n",
       "      <td>6</td>\n",
       "      <td>3</td>\n",
       "      <td>GOOD</td>\n",
       "      <td>NEEDS_REVISION</td>\n",
       "      <td>List types of data used in psychological resea...</td>\n",
       "    </tr>\n",
       "    <tr>\n",
       "      <th>9</th>\n",
       "      <td>11</td>\n",
       "      <td>PSYC1101</td>\n",
       "      <td>1</td>\n",
       "      <td>write research reports relevant to psychologic...</td>\n",
       "      <td>6</td>\n",
       "      <td>4</td>\n",
       "      <td>NEEDS_REVISION</td>\n",
       "      <td>NEEDS_REVISION</td>\n",
       "      <td>List the key components of a research report i...</td>\n",
       "    </tr>\n",
       "    <tr>\n",
       "      <th>10</th>\n",
       "      <td>11</td>\n",
       "      <td>PSYC1101</td>\n",
       "      <td>1</td>\n",
       "      <td>discuss and use the language of psychology app...</td>\n",
       "      <td>6</td>\n",
       "      <td>5</td>\n",
       "      <td>NEEDS_REVISION</td>\n",
       "      <td>COULD_IMPROVE</td>\n",
       "      <td>Define key terms used in psychological science.</td>\n",
       "    </tr>\n",
       "    <tr>\n",
       "      <th>11</th>\n",
       "      <td>92</td>\n",
       "      <td>ACCT2242</td>\n",
       "      <td>2</td>\n",
       "      <td>identify and explain the roles and components ...</td>\n",
       "      <td>6</td>\n",
       "      <td>1</td>\n",
       "      <td>NEEDS_REVISION</td>\n",
       "      <td>GOOD</td>\n",
       "      <td>identify and explain the roles and components ...</td>\n",
       "    </tr>\n",
       "    <tr>\n",
       "      <th>12</th>\n",
       "      <td>92</td>\n",
       "      <td>ACCT2242</td>\n",
       "      <td>2</td>\n",
       "      <td>describe the role of an internal control syste...</td>\n",
       "      <td>6</td>\n",
       "      <td>2</td>\n",
       "      <td>COULD_IMPROVE</td>\n",
       "      <td>COULD_IMPROVE</td>\n",
       "      <td>describe the role of an internal control syste...</td>\n",
       "    </tr>\n",
       "    <tr>\n",
       "      <th>13</th>\n",
       "      <td>92</td>\n",
       "      <td>ACCT2242</td>\n",
       "      <td>2</td>\n",
       "      <td>critically evaluate business processes and sys...</td>\n",
       "      <td>6</td>\n",
       "      <td>3</td>\n",
       "      <td>GOOD</td>\n",
       "      <td>NEEDS_REVISION</td>\n",
       "      <td>compare and contrast different business proces...</td>\n",
       "    </tr>\n",
       "    <tr>\n",
       "      <th>14</th>\n",
       "      <td>92</td>\n",
       "      <td>ACCT2242</td>\n",
       "      <td>2</td>\n",
       "      <td>demonstrate basic data analytics and visualisa...</td>\n",
       "      <td>6</td>\n",
       "      <td>4</td>\n",
       "      <td>GOOD</td>\n",
       "      <td>NEEDS_REVISION</td>\n",
       "      <td>explain basic data analytics and visualisation...</td>\n",
       "    </tr>\n",
       "    <tr>\n",
       "      <th>15</th>\n",
       "      <td>92</td>\n",
       "      <td>ACCT2242</td>\n",
       "      <td>2</td>\n",
       "      <td>explain the impact of ICT on current and emerg...</td>\n",
       "      <td>6</td>\n",
       "      <td>5</td>\n",
       "      <td>GOOD</td>\n",
       "      <td>GOOD</td>\n",
       "      <td>explain the impact of ICT on current and emerg...</td>\n",
       "    </tr>\n",
       "    <tr>\n",
       "      <th>16</th>\n",
       "      <td>92</td>\n",
       "      <td>ACCT2242</td>\n",
       "      <td>2</td>\n",
       "      <td>develop competencies to work effectively in te...</td>\n",
       "      <td>6</td>\n",
       "      <td>6</td>\n",
       "      <td>NEEDS_REVISION</td>\n",
       "      <td>NEEDS_REVISION</td>\n",
       "      <td>describe the key skills needed to work effecti...</td>\n",
       "    </tr>\n",
       "    <tr>\n",
       "      <th>17</th>\n",
       "      <td>417</td>\n",
       "      <td>LAWS3214</td>\n",
       "      <td>3</td>\n",
       "      <td>explain the origins of the SDGs and their role...</td>\n",
       "      <td>6</td>\n",
       "      <td>1</td>\n",
       "      <td>NEEDS_REVISION</td>\n",
       "      <td>GOOD</td>\n",
       "      <td>explain the origins of the SDGs and their role...</td>\n",
       "    </tr>\n",
       "    <tr>\n",
       "      <th>18</th>\n",
       "      <td>417</td>\n",
       "      <td>LAWS3214</td>\n",
       "      <td>3</td>\n",
       "      <td>synthesize knowledge of the 17 SDGs and descri...</td>\n",
       "      <td>6</td>\n",
       "      <td>2</td>\n",
       "      <td>NEEDS_REVISION</td>\n",
       "      <td>NEEDS_REVISION</td>\n",
       "      <td>Compare and contrast the 17 SDGs, describing t...</td>\n",
       "    </tr>\n",
       "    <tr>\n",
       "      <th>19</th>\n",
       "      <td>417</td>\n",
       "      <td>LAWS3214</td>\n",
       "      <td>3</td>\n",
       "      <td>assess the significance and effectiveness of t...</td>\n",
       "      <td>6</td>\n",
       "      <td>3</td>\n",
       "      <td>GOOD</td>\n",
       "      <td>NEEDS_REVISION</td>\n",
       "      <td>Apply understanding of the SDGs to evaluate th...</td>\n",
       "    </tr>\n",
       "  </tbody>\n",
       "</table>\n",
       "</div>"
      ],
      "text/plain": [
       "    unit id  unitcode  level  \\\n",
       "0         4  EMPL3301      3   \n",
       "1         4  EMPL3301      3   \n",
       "2         4  EMPL3301      3   \n",
       "3         4  EMPL3301      3   \n",
       "4         4  EMPL3301      3   \n",
       "5         4  EMPL3301      3   \n",
       "6        11  PSYC1101      1   \n",
       "7        11  PSYC1101      1   \n",
       "8        11  PSYC1101      1   \n",
       "9        11  PSYC1101      1   \n",
       "10       11  PSYC1101      1   \n",
       "11       92  ACCT2242      2   \n",
       "12       92  ACCT2242      2   \n",
       "13       92  ACCT2242      2   \n",
       "14       92  ACCT2242      2   \n",
       "15       92  ACCT2242      2   \n",
       "16       92  ACCT2242      2   \n",
       "17      417  LAWS3214      3   \n",
       "18      417  LAWS3214      3   \n",
       "19      417  LAWS3214      3   \n",
       "\n",
       "                                          description  credit points  \\\n",
       "0   describe the core debates over the meaning of ...              6   \n",
       "1   explain the relationship between globalisation...              6   \n",
       "2   identify organisations and institutions centra...              6   \n",
       "3   gain a critical appreciation of how globalisat...              6   \n",
       "4   develop a critical understanding of individual...              6   \n",
       "5   demonstrate enhanced written, oral and informa...              6   \n",
       "6   explain the nature of some important psycholog...              6   \n",
       "7   identify the basic principles of psychological...              6   \n",
       "8   describe data relevant to psychological questi...              6   \n",
       "9   write research reports relevant to psychologic...              6   \n",
       "10  discuss and use the language of psychology app...              6   \n",
       "11  identify and explain the roles and components ...              6   \n",
       "12  describe the role of an internal control syste...              6   \n",
       "13  critically evaluate business processes and sys...              6   \n",
       "14  demonstrate basic data analytics and visualisa...              6   \n",
       "15  explain the impact of ICT on current and emerg...              6   \n",
       "16  develop competencies to work effectively in te...              6   \n",
       "17  explain the origins of the SDGs and their role...              6   \n",
       "18  synthesize knowledge of the 17 SDGs and descri...              6   \n",
       "19  assess the significance and effectiveness of t...              6   \n",
       "\n",
       "    position            flag         AI_Flag  \\\n",
       "0          1            GOOD  NEEDS_REVISION   \n",
       "1          2            GOOD  NEEDS_REVISION   \n",
       "2          3  NEEDS_REVISION  NEEDS_REVISION   \n",
       "3          4  NEEDS_REVISION   COULD_IMPROVE   \n",
       "4          5            GOOD  NEEDS_REVISION   \n",
       "5          6            GOOD            GOOD   \n",
       "6          1            GOOD  NEEDS_REVISION   \n",
       "7          2            GOOD            GOOD   \n",
       "8          3            GOOD  NEEDS_REVISION   \n",
       "9          4  NEEDS_REVISION  NEEDS_REVISION   \n",
       "10         5  NEEDS_REVISION   COULD_IMPROVE   \n",
       "11         1  NEEDS_REVISION            GOOD   \n",
       "12         2   COULD_IMPROVE   COULD_IMPROVE   \n",
       "13         3            GOOD  NEEDS_REVISION   \n",
       "14         4            GOOD  NEEDS_REVISION   \n",
       "15         5            GOOD            GOOD   \n",
       "16         6  NEEDS_REVISION  NEEDS_REVISION   \n",
       "17         1  NEEDS_REVISION            GOOD   \n",
       "18         2  NEEDS_REVISION  NEEDS_REVISION   \n",
       "19         3            GOOD  NEEDS_REVISION   \n",
       "\n",
       "                                    Suggested Rewrite  \n",
       "0   Apply knowledge of core debates surrounding gl...  \n",
       "1   Demonstrate how globalisation impacts labour m...  \n",
       "2   Utilise knowledge of key organisations and ins...  \n",
       "3   Compare and contrast the impact of globalisati...  \n",
       "4   Construct arguments evaluating the effectivene...  \n",
       "5   demonstrate enhanced written, oral and informa...  \n",
       "6   Define key psychological processes and identif...  \n",
       "7   identify the basic principles of psychological...  \n",
       "8   List types of data used in psychological resea...  \n",
       "9   List the key components of a research report i...  \n",
       "10    Define key terms used in psychological science.  \n",
       "11  identify and explain the roles and components ...  \n",
       "12  describe the role of an internal control syste...  \n",
       "13  compare and contrast different business proces...  \n",
       "14  explain basic data analytics and visualisation...  \n",
       "15  explain the impact of ICT on current and emerg...  \n",
       "16  describe the key skills needed to work effecti...  \n",
       "17  explain the origins of the SDGs and their role...  \n",
       "18  Compare and contrast the 17 SDGs, describing t...  \n",
       "19  Apply understanding of the SDGs to evaluate th...  "
      ]
     },
     "execution_count": 36,
     "metadata": {},
     "output_type": "execute_result"
    }
   ],
   "source": [
    "rewrites_list = [entry[-1] for entry in final_results]\n",
    "\n",
    "testing_set['AI_Flag'] = lo_statuses\n",
    "testing_set['Suggested Rewrite'] = rewrites_list\n",
    "\n",
    "testing_set.head(20)"
   ]
  },
  {
   "cell_type": "code",
   "execution_count": 37,
   "id": "b010f9af",
   "metadata": {},
   "outputs": [],
   "source": [
    "testing_set.to_excel('AI Testing Files/Output_Files/Testing Set.xlsx', index=False)"
   ]
  },
  {
   "cell_type": "markdown",
   "id": "6b7154e5",
   "metadata": {},
   "source": [
    "## Test Results\n",
    "\n",
    "For the selected tests (F1, confusion matrix and cosine similarity), we use the sklearn.metrics library and the numpy library to generate our results. The F1 score in this case is the measurement of how accurately the AI flags the data in comparison to manually reviewed data, while the confusion metrix is a mapping of the flagging results."
   ]
  },
  {
   "cell_type": "code",
   "execution_count": 55,
   "id": "2a6462f6",
   "metadata": {},
   "outputs": [
    {
     "name": "stdout",
     "output_type": "stream",
     "text": [
      "0.3\n",
      "0.266\n"
     ]
    }
   ],
   "source": [
    "from sklearn.metrics import f1_score\n",
    "\n",
    "manual_flagged = testing_set.flag\n",
    "ai_flagged = testing_set.AI_Flag\n",
    "\n",
    "f1_macro = f1_score(manual_flagged, ai_flagged, average='macro')\n",
    "print(round(f1_macro, 3))\n",
    "\n",
    "f1_weighted = f1_score(manual_flagged, ai_flagged, average='weighted')\n",
    "print(round(f1_weighted, 3))\n"
   ]
  },
  {
   "cell_type": "markdown",
   "id": "27a5077f",
   "metadata": {},
   "source": [
    "The diagonal row going from top left to bottom rights indicates the number of learning outcomes the AI matches our evaluation. Anything to the right is a false negative and anything to the left is a false positive."
   ]
  },
  {
   "cell_type": "code",
   "execution_count": 56,
   "id": "31073c2b",
   "metadata": {},
   "outputs": [
    {
     "data": {
      "text/plain": [
       "<sklearn.metrics._plot.confusion_matrix.ConfusionMatrixDisplay at 0x128378a50>"
      ]
     },
     "execution_count": 56,
     "metadata": {},
     "output_type": "execute_result"
    },
    {
     "data": {
      "image/png": "[encoded data removed]",
      "text/plain": [
       "<Figure size 640x480 with 2 Axes>"
      ]
     },
     "metadata": {},
     "output_type": "display_data"
    }
   ],
   "source": [
    "from sklearn.metrics import confusion_matrix, ConfusionMatrixDisplay\n",
    "\n",
    "labels = [\"GOOD\", \"NEEDS_REVISION\", \"COULD_IMPROVE\"]  \n",
    "\n",
    "cm = confusion_matrix(manual_flagged, ai_flagged, labels=labels)\n",
    "disp = ConfusionMatrixDisplay(confusion_matrix=cm, display_labels=labels)\n",
    "disp.plot(cmap='Blues')"
   ]
  },
  {
   "cell_type": "code",
   "execution_count": 57,
   "id": "77d60bf4",
   "metadata": {},
   "outputs": [
    {
     "name": "stdout",
     "output_type": "stream",
     "text": [
      "[\"describe the core debates over the meaning of the term 'globalisation'\", 'explain the relationship between globalisation and labour market and workplace restructuring', 'identify organisations and institutions central to globalisation and their impact on work', 'gain a critical appreciation of how globalisation reshapes the experience of work and worker identity', 'develop a critical understanding of individual and collective responses to the impact of globalisation on work']\n",
      "['Apply knowledge of core debates surrounding globalisation to analyse contemporary case studies.', 'Demonstrate how globalisation impacts labour market and workplace restructuring through the analysis of specific industry examples.', 'Utilise knowledge of key organisations and institutions involved in globalisation to assess their impact on specific work practices.', 'Compare and contrast the impact of globalisation on worker identity in different national contexts.', 'Construct arguments evaluating the effectiveness of individual and collective responses to the challenges posed by globalisation in the workplace.']\n"
     ]
    }
   ],
   "source": [
    "unit_description = list(testing_set['description'])\n",
    "ai_rewrite_description = list(testing_set['Suggested Rewrite'])\n",
    "\n",
    "print(unit_description[:5])\n",
    "print(ai_rewrite_description[:5])"
   ]
  },
  {
   "cell_type": "markdown",
   "id": "e5067f5d",
   "metadata": {},
   "source": [
    "The cosine similarity score in AI testing evaluates the similarity between two strings of text provided. In our case, it can contribute to measuring how well the semantic intent of the original learning outcome was preserved in the AI's rewrites."
   ]
  },
  {
   "cell_type": "code",
   "execution_count": null,
   "id": "b41932f7",
   "metadata": {},
   "outputs": [
    {
     "name": "stderr",
     "output_type": "stream",
     "text": [
      "E0000 00:00:1760278741.869281 13615121 alts_credentials.cc:93] ALTS creds ignored. Not running on GCP and untrusted ALTS is not enabled.\n",
      "E0000 00:00:1760278741.879067 13615121 alts_credentials.cc:93] ALTS creds ignored. Not running on GCP and untrusted ALTS is not enabled.\n"
     ]
    }
   ],
   "source": [
    "from langchain_google_genai import GoogleGenerativeAIEmbeddings\n",
    "import numpy as np\n",
    "\n",
    "embedding_model = GoogleGenerativeAIEmbeddings(model=\"models/text-embedding-004\")\n",
    "\n",
    "def cosine_similarity_batch(description_list, rewrite_list):\n",
    "\n",
    "    cossim_vector = []\n",
    "\n",
    "    if len(description_list) != len(rewrite_list):\n",
    "        raise ValueError(\"Both lists must have the same length.\")\n",
    "\n",
    "    # Embed all descriptions at once\n",
    "    dlist_vector = embedding_model.embed_documents(description_list)\n",
    "    # Embed all rewrites at once\n",
    "    rlist_vector = embedding_model.embed_documents(rewrite_list)\n",
    "\n",
    "    for i in range(len(dlist_vector)):\n",
    "        cos_sim = np.dot(dlist_vector[i], rlist_vector[i]) / (np.linalg.norm(dlist_vector[i]) * np.linalg.norm(rlist_vector[i]))\n",
    "        cossim_vector.append(round(cos_sim, 4))\n",
    "\n",
    "    similarity = sum(cossim_vector)/len(cossim_vector)\n",
    "\n",
    "    return round(similarity, 4)"
   ]
  },
  {
   "cell_type": "code",
   "execution_count": 59,
   "id": "0b748981",
   "metadata": {},
   "outputs": [],
   "source": [
    "similarity_score = cosine_similarity_batch(unit_description, ai_rewrite_description)"
   ]
  },
  {
   "cell_type": "code",
   "execution_count": 60,
   "id": "48dd02bf",
   "metadata": {},
   "outputs": [
    {
     "name": "stdout",
     "output_type": "stream",
     "text": [
      "The similarity score between the original learning outcomes and the rewritten outcomes is: 0.9067\n"
     ]
    }
   ],
   "source": [
    "print(f'The similarity score between the original learning outcomes and the rewritten outcomes is: {similarity_score}')"
   ]
  }
 ],
 "metadata": {
  "kernelspec": {
   "display_name": "AIBuilder (3.13.5)",
   "language": "python",
   "name": "python3"
  },
  "language_info": {
   "codemirror_mode": {
    "name": "ipython",
    "version": 3
   },
   "file_extension": ".py",
   "mimetype": "text/x-python",
   "name": "python",
   "nbconvert_exporter": "python",
   "pygments_lexer": "ipython3",
   "version": "3.13.5"
  }
 },
 "nbformat": 4,
 "nbformat_minor": 5
}
